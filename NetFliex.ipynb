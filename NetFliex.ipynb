{
  "nbformat": 4,
  "nbformat_minor": 0,
  "metadata": {
    "colab": {
      "provenance": [],
      "toc_visible": true
    },
    "kernelspec": {
      "name": "python3",
      "display_name": "Python 3"
    },
    "language_info": {
      "name": "python"
    }
  },
  "cells": [
    {
      "cell_type": "markdown",
      "source": [
        "#**Business Problem**\n",
        "\n",
        "Analyze the data and generate insights that could help Netflix ijn deciding which type of shows/movies to produce and how they can grow the business in different countries.\n",
        "\n",
        "\n",
        " # **Column Description**\n",
        "\n",
        "1. **Show_id**: Unique ID for every Movie / Tv Show\n",
        "2. **Type**: Identifier - A Movie or TV Show\n",
        "3. **Title**: Title of the Movie / Tv Show\n",
        "4. **Director**: Director of the Movie\n",
        "5. **Cast**: Actors involved in the movie/show\n",
        "6. **Country**: Country where the movie/show was produced\n",
        "7. **Date_added**: Date it was added on Netflix\n",
        "8. **Release_year**: Actual Release year of the movie/show\n",
        "9. **Rating**: TV Rating of the movie/show\n",
        "10. **Duration**: Total Duration - in minutes or number of seasons\n",
        "11. **Listed_in**: Genre\n",
        "12. **Description**: The summary description\n"
      ],
      "metadata": {
        "id": "vGYAIvLEOODx"
      }
    },
    {
      "cell_type": "markdown",
      "source": [
        "#**Defining Problem Statement and Analysing basic metrics**\n",
        "\n",
        "# **Import Libraries**\n",
        "\n"
      ],
      "metadata": {
        "id": "yXI4lOlLQLzh"
      }
    },
    {
      "cell_type": "code",
      "execution_count": null,
      "metadata": {
        "id": "DBGm_B_OMfoX"
      },
      "outputs": [],
      "source": [
        "# Importing the required Libraries\n",
        "import numpy as np\n",
        "import pandas as pd\n",
        "import matplotlib.pyplot as plt\n",
        "import seaborn as sns\n"
      ]
    },
    {
      "cell_type": "markdown",
      "source": [
        "Loading the Dataset"
      ],
      "metadata": {
        "id": "QzDqLcq3TG6I"
      }
    },
    {
      "cell_type": "code",
      "source": [
        "# First we upload the dataset in the folder as csv file named it as \"netflix.csv\" and reading the data from the \"netflix.csv\" saved in the same folder as this colab-notebook\n",
        "df = pd.read_csv(\"netflix.csv\")"
      ],
      "metadata": {
        "id": "Ew6kotjfUXZp"
      },
      "execution_count": null,
      "outputs": []
    },
    {
      "cell_type": "code",
      "source": [
        "# printing the dataset\n",
        "df.head()"
      ],
      "metadata": {
        "colab": {
          "base_uri": "https://localhost:8080/",
          "height": 643
        },
        "id": "lDBIAPcMVgSg",
        "outputId": "1995076d-8d41-4fee-8d5d-d0bbf0b95cb0"
      },
      "execution_count": null,
      "outputs": [
        {
          "output_type": "execute_result",
          "data": {
            "text/plain": [
              "  show_id     type                  title         director  \\\n",
              "0      s1    Movie   Dick Johnson Is Dead  Kirsten Johnson   \n",
              "1      s2  TV Show          Blood & Water              NaN   \n",
              "2      s3  TV Show              Ganglands  Julien Leclercq   \n",
              "3      s4  TV Show  Jailbirds New Orleans              NaN   \n",
              "4      s5  TV Show           Kota Factory              NaN   \n",
              "\n",
              "                                                cast        country  \\\n",
              "0                                                NaN  United States   \n",
              "1  Ama Qamata, Khosi Ngema, Gail Mabalane, Thaban...   South Africa   \n",
              "2  Sami Bouajila, Tracy Gotoas, Samuel Jouy, Nabi...            NaN   \n",
              "3                                                NaN            NaN   \n",
              "4  Mayur More, Jitendra Kumar, Ranjan Raj, Alam K...          India   \n",
              "\n",
              "           date_added  release_year rating   duration  \\\n",
              "0  September 25, 2021          2020  PG-13     90 min   \n",
              "1  September 24, 2021          2021  TV-MA  2 Seasons   \n",
              "2  September 24, 2021          2021  TV-MA   1 Season   \n",
              "3  September 24, 2021          2021  TV-MA   1 Season   \n",
              "4  September 24, 2021          2021  TV-MA  2 Seasons   \n",
              "\n",
              "                                           listed_in  \\\n",
              "0                                      Documentaries   \n",
              "1    International TV Shows, TV Dramas, TV Mysteries   \n",
              "2  Crime TV Shows, International TV Shows, TV Act...   \n",
              "3                             Docuseries, Reality TV   \n",
              "4  International TV Shows, Romantic TV Shows, TV ...   \n",
              "\n",
              "                                         description  \n",
              "0  As her father nears the end of his life, filmm...  \n",
              "1  After crossing paths at a party, a Cape Town t...  \n",
              "2  To protect his family from a powerful drug lor...  \n",
              "3  Feuds, flirtations and toilet talk go down amo...  \n",
              "4  In a city of coaching centers known to train I...  "
            ],
            "text/html": [
              "\n",
              "  <div id=\"df-81fd1e32-4686-4586-a938-314aed088e0c\" class=\"colab-df-container\">\n",
              "    <div>\n",
              "<style scoped>\n",
              "    .dataframe tbody tr th:only-of-type {\n",
              "        vertical-align: middle;\n",
              "    }\n",
              "\n",
              "    .dataframe tbody tr th {\n",
              "        vertical-align: top;\n",
              "    }\n",
              "\n",
              "    .dataframe thead th {\n",
              "        text-align: right;\n",
              "    }\n",
              "</style>\n",
              "<table border=\"1\" class=\"dataframe\">\n",
              "  <thead>\n",
              "    <tr style=\"text-align: right;\">\n",
              "      <th></th>\n",
              "      <th>show_id</th>\n",
              "      <th>type</th>\n",
              "      <th>title</th>\n",
              "      <th>director</th>\n",
              "      <th>cast</th>\n",
              "      <th>country</th>\n",
              "      <th>date_added</th>\n",
              "      <th>release_year</th>\n",
              "      <th>rating</th>\n",
              "      <th>duration</th>\n",
              "      <th>listed_in</th>\n",
              "      <th>description</th>\n",
              "    </tr>\n",
              "  </thead>\n",
              "  <tbody>\n",
              "    <tr>\n",
              "      <th>0</th>\n",
              "      <td>s1</td>\n",
              "      <td>Movie</td>\n",
              "      <td>Dick Johnson Is Dead</td>\n",
              "      <td>Kirsten Johnson</td>\n",
              "      <td>NaN</td>\n",
              "      <td>United States</td>\n",
              "      <td>September 25, 2021</td>\n",
              "      <td>2020</td>\n",
              "      <td>PG-13</td>\n",
              "      <td>90 min</td>\n",
              "      <td>Documentaries</td>\n",
              "      <td>As her father nears the end of his life, filmm...</td>\n",
              "    </tr>\n",
              "    <tr>\n",
              "      <th>1</th>\n",
              "      <td>s2</td>\n",
              "      <td>TV Show</td>\n",
              "      <td>Blood &amp; Water</td>\n",
              "      <td>NaN</td>\n",
              "      <td>Ama Qamata, Khosi Ngema, Gail Mabalane, Thaban...</td>\n",
              "      <td>South Africa</td>\n",
              "      <td>September 24, 2021</td>\n",
              "      <td>2021</td>\n",
              "      <td>TV-MA</td>\n",
              "      <td>2 Seasons</td>\n",
              "      <td>International TV Shows, TV Dramas, TV Mysteries</td>\n",
              "      <td>After crossing paths at a party, a Cape Town t...</td>\n",
              "    </tr>\n",
              "    <tr>\n",
              "      <th>2</th>\n",
              "      <td>s3</td>\n",
              "      <td>TV Show</td>\n",
              "      <td>Ganglands</td>\n",
              "      <td>Julien Leclercq</td>\n",
              "      <td>Sami Bouajila, Tracy Gotoas, Samuel Jouy, Nabi...</td>\n",
              "      <td>NaN</td>\n",
              "      <td>September 24, 2021</td>\n",
              "      <td>2021</td>\n",
              "      <td>TV-MA</td>\n",
              "      <td>1 Season</td>\n",
              "      <td>Crime TV Shows, International TV Shows, TV Act...</td>\n",
              "      <td>To protect his family from a powerful drug lor...</td>\n",
              "    </tr>\n",
              "    <tr>\n",
              "      <th>3</th>\n",
              "      <td>s4</td>\n",
              "      <td>TV Show</td>\n",
              "      <td>Jailbirds New Orleans</td>\n",
              "      <td>NaN</td>\n",
              "      <td>NaN</td>\n",
              "      <td>NaN</td>\n",
              "      <td>September 24, 2021</td>\n",
              "      <td>2021</td>\n",
              "      <td>TV-MA</td>\n",
              "      <td>1 Season</td>\n",
              "      <td>Docuseries, Reality TV</td>\n",
              "      <td>Feuds, flirtations and toilet talk go down amo...</td>\n",
              "    </tr>\n",
              "    <tr>\n",
              "      <th>4</th>\n",
              "      <td>s5</td>\n",
              "      <td>TV Show</td>\n",
              "      <td>Kota Factory</td>\n",
              "      <td>NaN</td>\n",
              "      <td>Mayur More, Jitendra Kumar, Ranjan Raj, Alam K...</td>\n",
              "      <td>India</td>\n",
              "      <td>September 24, 2021</td>\n",
              "      <td>2021</td>\n",
              "      <td>TV-MA</td>\n",
              "      <td>2 Seasons</td>\n",
              "      <td>International TV Shows, Romantic TV Shows, TV ...</td>\n",
              "      <td>In a city of coaching centers known to train I...</td>\n",
              "    </tr>\n",
              "  </tbody>\n",
              "</table>\n",
              "</div>\n",
              "    <div class=\"colab-df-buttons\">\n",
              "\n",
              "  <div class=\"colab-df-container\">\n",
              "    <button class=\"colab-df-convert\" onclick=\"convertToInteractive('df-81fd1e32-4686-4586-a938-314aed088e0c')\"\n",
              "            title=\"Convert this dataframe to an interactive table.\"\n",
              "            style=\"display:none;\">\n",
              "\n",
              "  <svg xmlns=\"http://www.w3.org/2000/svg\" height=\"24px\" viewBox=\"0 -960 960 960\">\n",
              "    <path d=\"M120-120v-720h720v720H120Zm60-500h600v-160H180v160Zm220 220h160v-160H400v160Zm0 220h160v-160H400v160ZM180-400h160v-160H180v160Zm440 0h160v-160H620v160ZM180-180h160v-160H180v160Zm440 0h160v-160H620v160Z\"/>\n",
              "  </svg>\n",
              "    </button>\n",
              "\n",
              "  <style>\n",
              "    .colab-df-container {\n",
              "      display:flex;\n",
              "      gap: 12px;\n",
              "    }\n",
              "\n",
              "    .colab-df-convert {\n",
              "      background-color: #E8F0FE;\n",
              "      border: none;\n",
              "      border-radius: 50%;\n",
              "      cursor: pointer;\n",
              "      display: none;\n",
              "      fill: #1967D2;\n",
              "      height: 32px;\n",
              "      padding: 0 0 0 0;\n",
              "      width: 32px;\n",
              "    }\n",
              "\n",
              "    .colab-df-convert:hover {\n",
              "      background-color: #E2EBFA;\n",
              "      box-shadow: 0px 1px 2px rgba(60, 64, 67, 0.3), 0px 1px 3px 1px rgba(60, 64, 67, 0.15);\n",
              "      fill: #174EA6;\n",
              "    }\n",
              "\n",
              "    .colab-df-buttons div {\n",
              "      margin-bottom: 4px;\n",
              "    }\n",
              "\n",
              "    [theme=dark] .colab-df-convert {\n",
              "      background-color: #3B4455;\n",
              "      fill: #D2E3FC;\n",
              "    }\n",
              "\n",
              "    [theme=dark] .colab-df-convert:hover {\n",
              "      background-color: #434B5C;\n",
              "      box-shadow: 0px 1px 3px 1px rgba(0, 0, 0, 0.15);\n",
              "      filter: drop-shadow(0px 1px 2px rgba(0, 0, 0, 0.3));\n",
              "      fill: #FFFFFF;\n",
              "    }\n",
              "  </style>\n",
              "\n",
              "    <script>\n",
              "      const buttonEl =\n",
              "        document.querySelector('#df-81fd1e32-4686-4586-a938-314aed088e0c button.colab-df-convert');\n",
              "      buttonEl.style.display =\n",
              "        google.colab.kernel.accessAllowed ? 'block' : 'none';\n",
              "\n",
              "      async function convertToInteractive(key) {\n",
              "        const element = document.querySelector('#df-81fd1e32-4686-4586-a938-314aed088e0c');\n",
              "        const dataTable =\n",
              "          await google.colab.kernel.invokeFunction('convertToInteractive',\n",
              "                                                    [key], {});\n",
              "        if (!dataTable) return;\n",
              "\n",
              "        const docLinkHtml = 'Like what you see? Visit the ' +\n",
              "          '<a target=\"_blank\" href=https://colab.research.google.com/notebooks/data_table.ipynb>data table notebook</a>'\n",
              "          + ' to learn more about interactive tables.';\n",
              "        element.innerHTML = '';\n",
              "        dataTable['output_type'] = 'display_data';\n",
              "        await google.colab.output.renderOutput(dataTable, element);\n",
              "        const docLink = document.createElement('div');\n",
              "        docLink.innerHTML = docLinkHtml;\n",
              "        element.appendChild(docLink);\n",
              "      }\n",
              "    </script>\n",
              "  </div>\n",
              "\n",
              "\n",
              "<div id=\"df-8edbbd08-098a-47c8-9a47-15be6b3f20fc\">\n",
              "  <button class=\"colab-df-quickchart\" onclick=\"quickchart('df-8edbbd08-098a-47c8-9a47-15be6b3f20fc')\"\n",
              "            title=\"Suggest charts\"\n",
              "            style=\"display:none;\">\n",
              "\n",
              "<svg xmlns=\"http://www.w3.org/2000/svg\" height=\"24px\"viewBox=\"0 0 24 24\"\n",
              "     width=\"24px\">\n",
              "    <g>\n",
              "        <path d=\"M19 3H5c-1.1 0-2 .9-2 2v14c0 1.1.9 2 2 2h14c1.1 0 2-.9 2-2V5c0-1.1-.9-2-2-2zM9 17H7v-7h2v7zm4 0h-2V7h2v10zm4 0h-2v-4h2v4z\"/>\n",
              "    </g>\n",
              "</svg>\n",
              "  </button>\n",
              "\n",
              "<style>\n",
              "  .colab-df-quickchart {\n",
              "      --bg-color: #E8F0FE;\n",
              "      --fill-color: #1967D2;\n",
              "      --hover-bg-color: #E2EBFA;\n",
              "      --hover-fill-color: #174EA6;\n",
              "      --disabled-fill-color: #AAA;\n",
              "      --disabled-bg-color: #DDD;\n",
              "  }\n",
              "\n",
              "  [theme=dark] .colab-df-quickchart {\n",
              "      --bg-color: #3B4455;\n",
              "      --fill-color: #D2E3FC;\n",
              "      --hover-bg-color: #434B5C;\n",
              "      --hover-fill-color: #FFFFFF;\n",
              "      --disabled-bg-color: #3B4455;\n",
              "      --disabled-fill-color: #666;\n",
              "  }\n",
              "\n",
              "  .colab-df-quickchart {\n",
              "    background-color: var(--bg-color);\n",
              "    border: none;\n",
              "    border-radius: 50%;\n",
              "    cursor: pointer;\n",
              "    display: none;\n",
              "    fill: var(--fill-color);\n",
              "    height: 32px;\n",
              "    padding: 0;\n",
              "    width: 32px;\n",
              "  }\n",
              "\n",
              "  .colab-df-quickchart:hover {\n",
              "    background-color: var(--hover-bg-color);\n",
              "    box-shadow: 0 1px 2px rgba(60, 64, 67, 0.3), 0 1px 3px 1px rgba(60, 64, 67, 0.15);\n",
              "    fill: var(--button-hover-fill-color);\n",
              "  }\n",
              "\n",
              "  .colab-df-quickchart-complete:disabled,\n",
              "  .colab-df-quickchart-complete:disabled:hover {\n",
              "    background-color: var(--disabled-bg-color);\n",
              "    fill: var(--disabled-fill-color);\n",
              "    box-shadow: none;\n",
              "  }\n",
              "\n",
              "  .colab-df-spinner {\n",
              "    border: 2px solid var(--fill-color);\n",
              "    border-color: transparent;\n",
              "    border-bottom-color: var(--fill-color);\n",
              "    animation:\n",
              "      spin 1s steps(1) infinite;\n",
              "  }\n",
              "\n",
              "  @keyframes spin {\n",
              "    0% {\n",
              "      border-color: transparent;\n",
              "      border-bottom-color: var(--fill-color);\n",
              "      border-left-color: var(--fill-color);\n",
              "    }\n",
              "    20% {\n",
              "      border-color: transparent;\n",
              "      border-left-color: var(--fill-color);\n",
              "      border-top-color: var(--fill-color);\n",
              "    }\n",
              "    30% {\n",
              "      border-color: transparent;\n",
              "      border-left-color: var(--fill-color);\n",
              "      border-top-color: var(--fill-color);\n",
              "      border-right-color: var(--fill-color);\n",
              "    }\n",
              "    40% {\n",
              "      border-color: transparent;\n",
              "      border-right-color: var(--fill-color);\n",
              "      border-top-color: var(--fill-color);\n",
              "    }\n",
              "    60% {\n",
              "      border-color: transparent;\n",
              "      border-right-color: var(--fill-color);\n",
              "    }\n",
              "    80% {\n",
              "      border-color: transparent;\n",
              "      border-right-color: var(--fill-color);\n",
              "      border-bottom-color: var(--fill-color);\n",
              "    }\n",
              "    90% {\n",
              "      border-color: transparent;\n",
              "      border-bottom-color: var(--fill-color);\n",
              "    }\n",
              "  }\n",
              "</style>\n",
              "\n",
              "  <script>\n",
              "    async function quickchart(key) {\n",
              "      const quickchartButtonEl =\n",
              "        document.querySelector('#' + key + ' button');\n",
              "      quickchartButtonEl.disabled = true;  // To prevent multiple clicks.\n",
              "      quickchartButtonEl.classList.add('colab-df-spinner');\n",
              "      try {\n",
              "        const charts = await google.colab.kernel.invokeFunction(\n",
              "            'suggestCharts', [key], {});\n",
              "      } catch (error) {\n",
              "        console.error('Error during call to suggestCharts:', error);\n",
              "      }\n",
              "      quickchartButtonEl.classList.remove('colab-df-spinner');\n",
              "      quickchartButtonEl.classList.add('colab-df-quickchart-complete');\n",
              "    }\n",
              "    (() => {\n",
              "      let quickchartButtonEl =\n",
              "        document.querySelector('#df-8edbbd08-098a-47c8-9a47-15be6b3f20fc button');\n",
              "      quickchartButtonEl.style.display =\n",
              "        google.colab.kernel.accessAllowed ? 'block' : 'none';\n",
              "    })();\n",
              "  </script>\n",
              "</div>\n",
              "\n",
              "    </div>\n",
              "  </div>\n"
            ]
          },
          "metadata": {},
          "execution_count": 284
        }
      ]
    },
    {
      "cell_type": "markdown",
      "source": [
        "The First Step towards solving any Business Problem through Data is Exploratory Data Analysis (EDA) and the First Step towards EDA is basis analysis of the data (number of records, number of features and their corresponding data types), locating and eliminating Missing Values, and transforming features into something which is explorable and meaningfull."
      ],
      "metadata": {
        "id": "-DalFJQbWRS2"
      }
    },
    {
      "cell_type": "markdown",
      "source": [
        "#**Observations on the shape of data, data types of all the attributes, conversion of categorical attributes to 'category' (If required), missing value detection, statistical summary.**"
      ],
      "metadata": {
        "id": "Gbu3RIKRW2O_"
      }
    },
    {
      "cell_type": "code",
      "source": [
        "# Shape of the dataset\n",
        "df.shape"
      ],
      "metadata": {
        "colab": {
          "base_uri": "https://localhost:8080/"
        },
        "id": "czasZOWEV3th",
        "outputId": "7a12f2c2-e813-4c58-99a1-c9d478c599f4"
      },
      "execution_count": null,
      "outputs": [
        {
          "output_type": "execute_result",
          "data": {
            "text/plain": [
              "(8807, 12)"
            ]
          },
          "metadata": {},
          "execution_count": 285
        }
      ]
    },
    {
      "cell_type": "markdown",
      "source": [
        "*Here* we see the Overall dataset contains **8807** Rows and **12** Columns"
      ],
      "metadata": {
        "id": "NOQheDXWXK9J"
      }
    },
    {
      "cell_type": "code",
      "source": [
        "# Data types of all attributes\n",
        "df.dtypes"
      ],
      "metadata": {
        "colab": {
          "base_uri": "https://localhost:8080/"
        },
        "id": "e3_q8mXFXytu",
        "outputId": "a9c0e3b0-6d21-4a69-9fa0-7e5030c40e8c"
      },
      "execution_count": null,
      "outputs": [
        {
          "output_type": "execute_result",
          "data": {
            "text/plain": [
              "show_id         object\n",
              "type            object\n",
              "title           object\n",
              "director        object\n",
              "cast            object\n",
              "country         object\n",
              "date_added      object\n",
              "release_year     int64\n",
              "rating          object\n",
              "duration        object\n",
              "listed_in       object\n",
              "description     object\n",
              "dtype: object"
            ]
          },
          "metadata": {},
          "execution_count": 286
        }
      ]
    },
    {
      "cell_type": "code",
      "source": [
        "#To Get all Attributes columns\n",
        "df.columns"
      ],
      "metadata": {
        "colab": {
          "base_uri": "https://localhost:8080/"
        },
        "id": "J_ByKxasY5Ig",
        "outputId": "a19fca90-c327-4f27-9b65-5c86f48f655c"
      },
      "execution_count": null,
      "outputs": [
        {
          "output_type": "execute_result",
          "data": {
            "text/plain": [
              "Index(['show_id', 'type', 'title', 'director', 'cast', 'country', 'date_added',\n",
              "       'release_year', 'rating', 'duration', 'listed_in', 'description'],\n",
              "      dtype='object')"
            ]
          },
          "metadata": {},
          "execution_count": 287
        }
      ]
    },
    {
      "cell_type": "code",
      "source": [
        "# Dataset Info\n",
        "df.info()"
      ],
      "metadata": {
        "colab": {
          "base_uri": "https://localhost:8080/"
        },
        "id": "YNhc7JtpX8Ap",
        "outputId": "e84c83e9-3ca3-45b9-9a8d-d0ef529a8dc3"
      },
      "execution_count": null,
      "outputs": [
        {
          "output_type": "stream",
          "name": "stdout",
          "text": [
            "<class 'pandas.core.frame.DataFrame'>\n",
            "RangeIndex: 8807 entries, 0 to 8806\n",
            "Data columns (total 12 columns):\n",
            " #   Column        Non-Null Count  Dtype \n",
            "---  ------        --------------  ----- \n",
            " 0   show_id       8807 non-null   object\n",
            " 1   type          8807 non-null   object\n",
            " 2   title         8807 non-null   object\n",
            " 3   director      6173 non-null   object\n",
            " 4   cast          7982 non-null   object\n",
            " 5   country       7976 non-null   object\n",
            " 6   date_added    8797 non-null   object\n",
            " 7   release_year  8807 non-null   int64 \n",
            " 8   rating        8803 non-null   object\n",
            " 9   duration      8804 non-null   object\n",
            " 10  listed_in     8807 non-null   object\n",
            " 11  description   8807 non-null   object\n",
            "dtypes: int64(1), object(11)\n",
            "memory usage: 825.8+ KB\n"
          ]
        }
      ]
    },
    {
      "cell_type": "code",
      "source": [
        "#Statistical Summary for a Continuos Variables or Before Data Cleaning:\n",
        "df.describe()"
      ],
      "metadata": {
        "colab": {
          "base_uri": "https://localhost:8080/",
          "height": 300
        },
        "id": "PKlReaCMYScv",
        "outputId": "855593cd-e588-4bdc-d188-85a2692c5755"
      },
      "execution_count": null,
      "outputs": [
        {
          "output_type": "execute_result",
          "data": {
            "text/plain": [
              "       release_year\n",
              "count   8807.000000\n",
              "mean    2014.180198\n",
              "std        8.819312\n",
              "min     1925.000000\n",
              "25%     2013.000000\n",
              "50%     2017.000000\n",
              "75%     2019.000000\n",
              "max     2021.000000"
            ],
            "text/html": [
              "\n",
              "  <div id=\"df-70b20ed7-dbea-42dc-ad47-9fbb115bfd69\" class=\"colab-df-container\">\n",
              "    <div>\n",
              "<style scoped>\n",
              "    .dataframe tbody tr th:only-of-type {\n",
              "        vertical-align: middle;\n",
              "    }\n",
              "\n",
              "    .dataframe tbody tr th {\n",
              "        vertical-align: top;\n",
              "    }\n",
              "\n",
              "    .dataframe thead th {\n",
              "        text-align: right;\n",
              "    }\n",
              "</style>\n",
              "<table border=\"1\" class=\"dataframe\">\n",
              "  <thead>\n",
              "    <tr style=\"text-align: right;\">\n",
              "      <th></th>\n",
              "      <th>release_year</th>\n",
              "    </tr>\n",
              "  </thead>\n",
              "  <tbody>\n",
              "    <tr>\n",
              "      <th>count</th>\n",
              "      <td>8807.000000</td>\n",
              "    </tr>\n",
              "    <tr>\n",
              "      <th>mean</th>\n",
              "      <td>2014.180198</td>\n",
              "    </tr>\n",
              "    <tr>\n",
              "      <th>std</th>\n",
              "      <td>8.819312</td>\n",
              "    </tr>\n",
              "    <tr>\n",
              "      <th>min</th>\n",
              "      <td>1925.000000</td>\n",
              "    </tr>\n",
              "    <tr>\n",
              "      <th>25%</th>\n",
              "      <td>2013.000000</td>\n",
              "    </tr>\n",
              "    <tr>\n",
              "      <th>50%</th>\n",
              "      <td>2017.000000</td>\n",
              "    </tr>\n",
              "    <tr>\n",
              "      <th>75%</th>\n",
              "      <td>2019.000000</td>\n",
              "    </tr>\n",
              "    <tr>\n",
              "      <th>max</th>\n",
              "      <td>2021.000000</td>\n",
              "    </tr>\n",
              "  </tbody>\n",
              "</table>\n",
              "</div>\n",
              "    <div class=\"colab-df-buttons\">\n",
              "\n",
              "  <div class=\"colab-df-container\">\n",
              "    <button class=\"colab-df-convert\" onclick=\"convertToInteractive('df-70b20ed7-dbea-42dc-ad47-9fbb115bfd69')\"\n",
              "            title=\"Convert this dataframe to an interactive table.\"\n",
              "            style=\"display:none;\">\n",
              "\n",
              "  <svg xmlns=\"http://www.w3.org/2000/svg\" height=\"24px\" viewBox=\"0 -960 960 960\">\n",
              "    <path d=\"M120-120v-720h720v720H120Zm60-500h600v-160H180v160Zm220 220h160v-160H400v160Zm0 220h160v-160H400v160ZM180-400h160v-160H180v160Zm440 0h160v-160H620v160ZM180-180h160v-160H180v160Zm440 0h160v-160H620v160Z\"/>\n",
              "  </svg>\n",
              "    </button>\n",
              "\n",
              "  <style>\n",
              "    .colab-df-container {\n",
              "      display:flex;\n",
              "      gap: 12px;\n",
              "    }\n",
              "\n",
              "    .colab-df-convert {\n",
              "      background-color: #E8F0FE;\n",
              "      border: none;\n",
              "      border-radius: 50%;\n",
              "      cursor: pointer;\n",
              "      display: none;\n",
              "      fill: #1967D2;\n",
              "      height: 32px;\n",
              "      padding: 0 0 0 0;\n",
              "      width: 32px;\n",
              "    }\n",
              "\n",
              "    .colab-df-convert:hover {\n",
              "      background-color: #E2EBFA;\n",
              "      box-shadow: 0px 1px 2px rgba(60, 64, 67, 0.3), 0px 1px 3px 1px rgba(60, 64, 67, 0.15);\n",
              "      fill: #174EA6;\n",
              "    }\n",
              "\n",
              "    .colab-df-buttons div {\n",
              "      margin-bottom: 4px;\n",
              "    }\n",
              "\n",
              "    [theme=dark] .colab-df-convert {\n",
              "      background-color: #3B4455;\n",
              "      fill: #D2E3FC;\n",
              "    }\n",
              "\n",
              "    [theme=dark] .colab-df-convert:hover {\n",
              "      background-color: #434B5C;\n",
              "      box-shadow: 0px 1px 3px 1px rgba(0, 0, 0, 0.15);\n",
              "      filter: drop-shadow(0px 1px 2px rgba(0, 0, 0, 0.3));\n",
              "      fill: #FFFFFF;\n",
              "    }\n",
              "  </style>\n",
              "\n",
              "    <script>\n",
              "      const buttonEl =\n",
              "        document.querySelector('#df-70b20ed7-dbea-42dc-ad47-9fbb115bfd69 button.colab-df-convert');\n",
              "      buttonEl.style.display =\n",
              "        google.colab.kernel.accessAllowed ? 'block' : 'none';\n",
              "\n",
              "      async function convertToInteractive(key) {\n",
              "        const element = document.querySelector('#df-70b20ed7-dbea-42dc-ad47-9fbb115bfd69');\n",
              "        const dataTable =\n",
              "          await google.colab.kernel.invokeFunction('convertToInteractive',\n",
              "                                                    [key], {});\n",
              "        if (!dataTable) return;\n",
              "\n",
              "        const docLinkHtml = 'Like what you see? Visit the ' +\n",
              "          '<a target=\"_blank\" href=https://colab.research.google.com/notebooks/data_table.ipynb>data table notebook</a>'\n",
              "          + ' to learn more about interactive tables.';\n",
              "        element.innerHTML = '';\n",
              "        dataTable['output_type'] = 'display_data';\n",
              "        await google.colab.output.renderOutput(dataTable, element);\n",
              "        const docLink = document.createElement('div');\n",
              "        docLink.innerHTML = docLinkHtml;\n",
              "        element.appendChild(docLink);\n",
              "      }\n",
              "    </script>\n",
              "  </div>\n",
              "\n",
              "\n",
              "<div id=\"df-4a3be55a-1c63-4526-8642-169c4151d16c\">\n",
              "  <button class=\"colab-df-quickchart\" onclick=\"quickchart('df-4a3be55a-1c63-4526-8642-169c4151d16c')\"\n",
              "            title=\"Suggest charts\"\n",
              "            style=\"display:none;\">\n",
              "\n",
              "<svg xmlns=\"http://www.w3.org/2000/svg\" height=\"24px\"viewBox=\"0 0 24 24\"\n",
              "     width=\"24px\">\n",
              "    <g>\n",
              "        <path d=\"M19 3H5c-1.1 0-2 .9-2 2v14c0 1.1.9 2 2 2h14c1.1 0 2-.9 2-2V5c0-1.1-.9-2-2-2zM9 17H7v-7h2v7zm4 0h-2V7h2v10zm4 0h-2v-4h2v4z\"/>\n",
              "    </g>\n",
              "</svg>\n",
              "  </button>\n",
              "\n",
              "<style>\n",
              "  .colab-df-quickchart {\n",
              "      --bg-color: #E8F0FE;\n",
              "      --fill-color: #1967D2;\n",
              "      --hover-bg-color: #E2EBFA;\n",
              "      --hover-fill-color: #174EA6;\n",
              "      --disabled-fill-color: #AAA;\n",
              "      --disabled-bg-color: #DDD;\n",
              "  }\n",
              "\n",
              "  [theme=dark] .colab-df-quickchart {\n",
              "      --bg-color: #3B4455;\n",
              "      --fill-color: #D2E3FC;\n",
              "      --hover-bg-color: #434B5C;\n",
              "      --hover-fill-color: #FFFFFF;\n",
              "      --disabled-bg-color: #3B4455;\n",
              "      --disabled-fill-color: #666;\n",
              "  }\n",
              "\n",
              "  .colab-df-quickchart {\n",
              "    background-color: var(--bg-color);\n",
              "    border: none;\n",
              "    border-radius: 50%;\n",
              "    cursor: pointer;\n",
              "    display: none;\n",
              "    fill: var(--fill-color);\n",
              "    height: 32px;\n",
              "    padding: 0;\n",
              "    width: 32px;\n",
              "  }\n",
              "\n",
              "  .colab-df-quickchart:hover {\n",
              "    background-color: var(--hover-bg-color);\n",
              "    box-shadow: 0 1px 2px rgba(60, 64, 67, 0.3), 0 1px 3px 1px rgba(60, 64, 67, 0.15);\n",
              "    fill: var(--button-hover-fill-color);\n",
              "  }\n",
              "\n",
              "  .colab-df-quickchart-complete:disabled,\n",
              "  .colab-df-quickchart-complete:disabled:hover {\n",
              "    background-color: var(--disabled-bg-color);\n",
              "    fill: var(--disabled-fill-color);\n",
              "    box-shadow: none;\n",
              "  }\n",
              "\n",
              "  .colab-df-spinner {\n",
              "    border: 2px solid var(--fill-color);\n",
              "    border-color: transparent;\n",
              "    border-bottom-color: var(--fill-color);\n",
              "    animation:\n",
              "      spin 1s steps(1) infinite;\n",
              "  }\n",
              "\n",
              "  @keyframes spin {\n",
              "    0% {\n",
              "      border-color: transparent;\n",
              "      border-bottom-color: var(--fill-color);\n",
              "      border-left-color: var(--fill-color);\n",
              "    }\n",
              "    20% {\n",
              "      border-color: transparent;\n",
              "      border-left-color: var(--fill-color);\n",
              "      border-top-color: var(--fill-color);\n",
              "    }\n",
              "    30% {\n",
              "      border-color: transparent;\n",
              "      border-left-color: var(--fill-color);\n",
              "      border-top-color: var(--fill-color);\n",
              "      border-right-color: var(--fill-color);\n",
              "    }\n",
              "    40% {\n",
              "      border-color: transparent;\n",
              "      border-right-color: var(--fill-color);\n",
              "      border-top-color: var(--fill-color);\n",
              "    }\n",
              "    60% {\n",
              "      border-color: transparent;\n",
              "      border-right-color: var(--fill-color);\n",
              "    }\n",
              "    80% {\n",
              "      border-color: transparent;\n",
              "      border-right-color: var(--fill-color);\n",
              "      border-bottom-color: var(--fill-color);\n",
              "    }\n",
              "    90% {\n",
              "      border-color: transparent;\n",
              "      border-bottom-color: var(--fill-color);\n",
              "    }\n",
              "  }\n",
              "</style>\n",
              "\n",
              "  <script>\n",
              "    async function quickchart(key) {\n",
              "      const quickchartButtonEl =\n",
              "        document.querySelector('#' + key + ' button');\n",
              "      quickchartButtonEl.disabled = true;  // To prevent multiple clicks.\n",
              "      quickchartButtonEl.classList.add('colab-df-spinner');\n",
              "      try {\n",
              "        const charts = await google.colab.kernel.invokeFunction(\n",
              "            'suggestCharts', [key], {});\n",
              "      } catch (error) {\n",
              "        console.error('Error during call to suggestCharts:', error);\n",
              "      }\n",
              "      quickchartButtonEl.classList.remove('colab-df-spinner');\n",
              "      quickchartButtonEl.classList.add('colab-df-quickchart-complete');\n",
              "    }\n",
              "    (() => {\n",
              "      let quickchartButtonEl =\n",
              "        document.querySelector('#df-4a3be55a-1c63-4526-8642-169c4151d16c button');\n",
              "      quickchartButtonEl.style.display =\n",
              "        google.colab.kernel.accessAllowed ? 'block' : 'none';\n",
              "    })();\n",
              "  </script>\n",
              "</div>\n",
              "\n",
              "    </div>\n",
              "  </div>\n"
            ]
          },
          "metadata": {},
          "execution_count": 289
        }
      ]
    },
    {
      "cell_type": "markdown",
      "source": [
        " # **Data Cleaning and Preprocesing**"
      ],
      "metadata": {
        "id": "rH_DkNIQZmk9"
      }
    },
    {
      "cell_type": "code",
      "source": [
        "# Missing Value Detection -----> Checking the Missing Values\n",
        "df.isnull().sum()\n",
        "#df.isna().sum()"
      ],
      "metadata": {
        "colab": {
          "base_uri": "https://localhost:8080/"
        },
        "id": "yukhBBCrZR06",
        "outputId": "6dab4a1e-a767-4361-94e8-1fd86a20b9ab"
      },
      "execution_count": null,
      "outputs": [
        {
          "output_type": "execute_result",
          "data": {
            "text/plain": [
              "show_id            0\n",
              "type               0\n",
              "title              0\n",
              "director        2634\n",
              "cast             825\n",
              "country          831\n",
              "date_added        10\n",
              "release_year       0\n",
              "rating             4\n",
              "duration           3\n",
              "listed_in          0\n",
              "description        0\n",
              "dtype: int64"
            ]
          },
          "metadata": {},
          "execution_count": 290
        }
      ]
    },
    {
      "cell_type": "markdown",
      "source": [
        "\n",
        "\n",
        "```\n",
        "# This is formatted as code\n",
        "```\n",
        "\n",
        "Here we see the info, we know that there are 8807 entries and 12 columns to work with for this EDA. There\n",
        "are a few columns that contain null values in 'director', 'cast', 'country',\n",
        "'date_added', 'rating', 'duration'.\n"
      ],
      "metadata": {
        "id": "-cFwEekyeDG6"
      }
    },
    {
      "cell_type": "code",
      "source": [
        "# Sum of null values\n",
        "df.isnull().sum().sum()"
      ],
      "metadata": {
        "colab": {
          "base_uri": "https://localhost:8080/"
        },
        "id": "byZ60rfofIOm",
        "outputId": "d17fca33-35ad-44af-ee2e-76b26c6c210f"
      },
      "execution_count": null,
      "outputs": [
        {
          "output_type": "execute_result",
          "data": {
            "text/plain": [
              "4307"
            ]
          },
          "metadata": {},
          "execution_count": 291
        }
      ]
    },
    {
      "cell_type": "markdown",
      "source": [
        "\n",
        "There are a total of 4307 null values across the entire dataset with missing values 2634 under\n",
        "\"director\", 825 under \"cast\", 831 under \"country\", 10 under \"date_added\", 4 under \"rating\" and\n",
        "3 under “duration ”. We will have to handle all null data points before we can dive into EDA and\n",
        "modelling"
      ],
      "metadata": {
        "id": "SBMKSeakfbmY"
      }
    },
    {
      "cell_type": "code",
      "source": [
        "# Dropping an one Column , Here we drop show_id column because it won't help us in our analysis as it is just an unique identifier\n",
        "df.drop('show_id', axis=1 , inplace=True)"
      ],
      "metadata": {
        "id": "rQaQp6lBade5"
      },
      "execution_count": null,
      "outputs": []
    },
    {
      "cell_type": "code",
      "source": [
        "df.head()"
      ],
      "metadata": {
        "colab": {
          "base_uri": "https://localhost:8080/",
          "height": 643
        },
        "id": "n2bxmdYAbcFA",
        "outputId": "85d3b17b-8993-49f0-f61d-ddc89a17b23c"
      },
      "execution_count": null,
      "outputs": [
        {
          "output_type": "execute_result",
          "data": {
            "text/plain": [
              "      type                  title         director  \\\n",
              "0    Movie   Dick Johnson Is Dead  Kirsten Johnson   \n",
              "1  TV Show          Blood & Water              NaN   \n",
              "2  TV Show              Ganglands  Julien Leclercq   \n",
              "3  TV Show  Jailbirds New Orleans              NaN   \n",
              "4  TV Show           Kota Factory              NaN   \n",
              "\n",
              "                                                cast        country  \\\n",
              "0                                                NaN  United States   \n",
              "1  Ama Qamata, Khosi Ngema, Gail Mabalane, Thaban...   South Africa   \n",
              "2  Sami Bouajila, Tracy Gotoas, Samuel Jouy, Nabi...            NaN   \n",
              "3                                                NaN            NaN   \n",
              "4  Mayur More, Jitendra Kumar, Ranjan Raj, Alam K...          India   \n",
              "\n",
              "           date_added  release_year rating   duration  \\\n",
              "0  September 25, 2021          2020  PG-13     90 min   \n",
              "1  September 24, 2021          2021  TV-MA  2 Seasons   \n",
              "2  September 24, 2021          2021  TV-MA   1 Season   \n",
              "3  September 24, 2021          2021  TV-MA   1 Season   \n",
              "4  September 24, 2021          2021  TV-MA  2 Seasons   \n",
              "\n",
              "                                           listed_in  \\\n",
              "0                                      Documentaries   \n",
              "1    International TV Shows, TV Dramas, TV Mysteries   \n",
              "2  Crime TV Shows, International TV Shows, TV Act...   \n",
              "3                             Docuseries, Reality TV   \n",
              "4  International TV Shows, Romantic TV Shows, TV ...   \n",
              "\n",
              "                                         description  \n",
              "0  As her father nears the end of his life, filmm...  \n",
              "1  After crossing paths at a party, a Cape Town t...  \n",
              "2  To protect his family from a powerful drug lor...  \n",
              "3  Feuds, flirtations and toilet talk go down amo...  \n",
              "4  In a city of coaching centers known to train I...  "
            ],
            "text/html": [
              "\n",
              "  <div id=\"df-aa653a52-c81d-4f8a-9c1d-e27c8bdfebd3\" class=\"colab-df-container\">\n",
              "    <div>\n",
              "<style scoped>\n",
              "    .dataframe tbody tr th:only-of-type {\n",
              "        vertical-align: middle;\n",
              "    }\n",
              "\n",
              "    .dataframe tbody tr th {\n",
              "        vertical-align: top;\n",
              "    }\n",
              "\n",
              "    .dataframe thead th {\n",
              "        text-align: right;\n",
              "    }\n",
              "</style>\n",
              "<table border=\"1\" class=\"dataframe\">\n",
              "  <thead>\n",
              "    <tr style=\"text-align: right;\">\n",
              "      <th></th>\n",
              "      <th>type</th>\n",
              "      <th>title</th>\n",
              "      <th>director</th>\n",
              "      <th>cast</th>\n",
              "      <th>country</th>\n",
              "      <th>date_added</th>\n",
              "      <th>release_year</th>\n",
              "      <th>rating</th>\n",
              "      <th>duration</th>\n",
              "      <th>listed_in</th>\n",
              "      <th>description</th>\n",
              "    </tr>\n",
              "  </thead>\n",
              "  <tbody>\n",
              "    <tr>\n",
              "      <th>0</th>\n",
              "      <td>Movie</td>\n",
              "      <td>Dick Johnson Is Dead</td>\n",
              "      <td>Kirsten Johnson</td>\n",
              "      <td>NaN</td>\n",
              "      <td>United States</td>\n",
              "      <td>September 25, 2021</td>\n",
              "      <td>2020</td>\n",
              "      <td>PG-13</td>\n",
              "      <td>90 min</td>\n",
              "      <td>Documentaries</td>\n",
              "      <td>As her father nears the end of his life, filmm...</td>\n",
              "    </tr>\n",
              "    <tr>\n",
              "      <th>1</th>\n",
              "      <td>TV Show</td>\n",
              "      <td>Blood &amp; Water</td>\n",
              "      <td>NaN</td>\n",
              "      <td>Ama Qamata, Khosi Ngema, Gail Mabalane, Thaban...</td>\n",
              "      <td>South Africa</td>\n",
              "      <td>September 24, 2021</td>\n",
              "      <td>2021</td>\n",
              "      <td>TV-MA</td>\n",
              "      <td>2 Seasons</td>\n",
              "      <td>International TV Shows, TV Dramas, TV Mysteries</td>\n",
              "      <td>After crossing paths at a party, a Cape Town t...</td>\n",
              "    </tr>\n",
              "    <tr>\n",
              "      <th>2</th>\n",
              "      <td>TV Show</td>\n",
              "      <td>Ganglands</td>\n",
              "      <td>Julien Leclercq</td>\n",
              "      <td>Sami Bouajila, Tracy Gotoas, Samuel Jouy, Nabi...</td>\n",
              "      <td>NaN</td>\n",
              "      <td>September 24, 2021</td>\n",
              "      <td>2021</td>\n",
              "      <td>TV-MA</td>\n",
              "      <td>1 Season</td>\n",
              "      <td>Crime TV Shows, International TV Shows, TV Act...</td>\n",
              "      <td>To protect his family from a powerful drug lor...</td>\n",
              "    </tr>\n",
              "    <tr>\n",
              "      <th>3</th>\n",
              "      <td>TV Show</td>\n",
              "      <td>Jailbirds New Orleans</td>\n",
              "      <td>NaN</td>\n",
              "      <td>NaN</td>\n",
              "      <td>NaN</td>\n",
              "      <td>September 24, 2021</td>\n",
              "      <td>2021</td>\n",
              "      <td>TV-MA</td>\n",
              "      <td>1 Season</td>\n",
              "      <td>Docuseries, Reality TV</td>\n",
              "      <td>Feuds, flirtations and toilet talk go down amo...</td>\n",
              "    </tr>\n",
              "    <tr>\n",
              "      <th>4</th>\n",
              "      <td>TV Show</td>\n",
              "      <td>Kota Factory</td>\n",
              "      <td>NaN</td>\n",
              "      <td>Mayur More, Jitendra Kumar, Ranjan Raj, Alam K...</td>\n",
              "      <td>India</td>\n",
              "      <td>September 24, 2021</td>\n",
              "      <td>2021</td>\n",
              "      <td>TV-MA</td>\n",
              "      <td>2 Seasons</td>\n",
              "      <td>International TV Shows, Romantic TV Shows, TV ...</td>\n",
              "      <td>In a city of coaching centers known to train I...</td>\n",
              "    </tr>\n",
              "  </tbody>\n",
              "</table>\n",
              "</div>\n",
              "    <div class=\"colab-df-buttons\">\n",
              "\n",
              "  <div class=\"colab-df-container\">\n",
              "    <button class=\"colab-df-convert\" onclick=\"convertToInteractive('df-aa653a52-c81d-4f8a-9c1d-e27c8bdfebd3')\"\n",
              "            title=\"Convert this dataframe to an interactive table.\"\n",
              "            style=\"display:none;\">\n",
              "\n",
              "  <svg xmlns=\"http://www.w3.org/2000/svg\" height=\"24px\" viewBox=\"0 -960 960 960\">\n",
              "    <path d=\"M120-120v-720h720v720H120Zm60-500h600v-160H180v160Zm220 220h160v-160H400v160Zm0 220h160v-160H400v160ZM180-400h160v-160H180v160Zm440 0h160v-160H620v160ZM180-180h160v-160H180v160Zm440 0h160v-160H620v160Z\"/>\n",
              "  </svg>\n",
              "    </button>\n",
              "\n",
              "  <style>\n",
              "    .colab-df-container {\n",
              "      display:flex;\n",
              "      gap: 12px;\n",
              "    }\n",
              "\n",
              "    .colab-df-convert {\n",
              "      background-color: #E8F0FE;\n",
              "      border: none;\n",
              "      border-radius: 50%;\n",
              "      cursor: pointer;\n",
              "      display: none;\n",
              "      fill: #1967D2;\n",
              "      height: 32px;\n",
              "      padding: 0 0 0 0;\n",
              "      width: 32px;\n",
              "    }\n",
              "\n",
              "    .colab-df-convert:hover {\n",
              "      background-color: #E2EBFA;\n",
              "      box-shadow: 0px 1px 2px rgba(60, 64, 67, 0.3), 0px 1px 3px 1px rgba(60, 64, 67, 0.15);\n",
              "      fill: #174EA6;\n",
              "    }\n",
              "\n",
              "    .colab-df-buttons div {\n",
              "      margin-bottom: 4px;\n",
              "    }\n",
              "\n",
              "    [theme=dark] .colab-df-convert {\n",
              "      background-color: #3B4455;\n",
              "      fill: #D2E3FC;\n",
              "    }\n",
              "\n",
              "    [theme=dark] .colab-df-convert:hover {\n",
              "      background-color: #434B5C;\n",
              "      box-shadow: 0px 1px 3px 1px rgba(0, 0, 0, 0.15);\n",
              "      filter: drop-shadow(0px 1px 2px rgba(0, 0, 0, 0.3));\n",
              "      fill: #FFFFFF;\n",
              "    }\n",
              "  </style>\n",
              "\n",
              "    <script>\n",
              "      const buttonEl =\n",
              "        document.querySelector('#df-aa653a52-c81d-4f8a-9c1d-e27c8bdfebd3 button.colab-df-convert');\n",
              "      buttonEl.style.display =\n",
              "        google.colab.kernel.accessAllowed ? 'block' : 'none';\n",
              "\n",
              "      async function convertToInteractive(key) {\n",
              "        const element = document.querySelector('#df-aa653a52-c81d-4f8a-9c1d-e27c8bdfebd3');\n",
              "        const dataTable =\n",
              "          await google.colab.kernel.invokeFunction('convertToInteractive',\n",
              "                                                    [key], {});\n",
              "        if (!dataTable) return;\n",
              "\n",
              "        const docLinkHtml = 'Like what you see? Visit the ' +\n",
              "          '<a target=\"_blank\" href=https://colab.research.google.com/notebooks/data_table.ipynb>data table notebook</a>'\n",
              "          + ' to learn more about interactive tables.';\n",
              "        element.innerHTML = '';\n",
              "        dataTable['output_type'] = 'display_data';\n",
              "        await google.colab.output.renderOutput(dataTable, element);\n",
              "        const docLink = document.createElement('div');\n",
              "        docLink.innerHTML = docLinkHtml;\n",
              "        element.appendChild(docLink);\n",
              "      }\n",
              "    </script>\n",
              "  </div>\n",
              "\n",
              "\n",
              "<div id=\"df-7a02bebd-db65-4f45-bcaa-38a7f575dcfb\">\n",
              "  <button class=\"colab-df-quickchart\" onclick=\"quickchart('df-7a02bebd-db65-4f45-bcaa-38a7f575dcfb')\"\n",
              "            title=\"Suggest charts\"\n",
              "            style=\"display:none;\">\n",
              "\n",
              "<svg xmlns=\"http://www.w3.org/2000/svg\" height=\"24px\"viewBox=\"0 0 24 24\"\n",
              "     width=\"24px\">\n",
              "    <g>\n",
              "        <path d=\"M19 3H5c-1.1 0-2 .9-2 2v14c0 1.1.9 2 2 2h14c1.1 0 2-.9 2-2V5c0-1.1-.9-2-2-2zM9 17H7v-7h2v7zm4 0h-2V7h2v10zm4 0h-2v-4h2v4z\"/>\n",
              "    </g>\n",
              "</svg>\n",
              "  </button>\n",
              "\n",
              "<style>\n",
              "  .colab-df-quickchart {\n",
              "      --bg-color: #E8F0FE;\n",
              "      --fill-color: #1967D2;\n",
              "      --hover-bg-color: #E2EBFA;\n",
              "      --hover-fill-color: #174EA6;\n",
              "      --disabled-fill-color: #AAA;\n",
              "      --disabled-bg-color: #DDD;\n",
              "  }\n",
              "\n",
              "  [theme=dark] .colab-df-quickchart {\n",
              "      --bg-color: #3B4455;\n",
              "      --fill-color: #D2E3FC;\n",
              "      --hover-bg-color: #434B5C;\n",
              "      --hover-fill-color: #FFFFFF;\n",
              "      --disabled-bg-color: #3B4455;\n",
              "      --disabled-fill-color: #666;\n",
              "  }\n",
              "\n",
              "  .colab-df-quickchart {\n",
              "    background-color: var(--bg-color);\n",
              "    border: none;\n",
              "    border-radius: 50%;\n",
              "    cursor: pointer;\n",
              "    display: none;\n",
              "    fill: var(--fill-color);\n",
              "    height: 32px;\n",
              "    padding: 0;\n",
              "    width: 32px;\n",
              "  }\n",
              "\n",
              "  .colab-df-quickchart:hover {\n",
              "    background-color: var(--hover-bg-color);\n",
              "    box-shadow: 0 1px 2px rgba(60, 64, 67, 0.3), 0 1px 3px 1px rgba(60, 64, 67, 0.15);\n",
              "    fill: var(--button-hover-fill-color);\n",
              "  }\n",
              "\n",
              "  .colab-df-quickchart-complete:disabled,\n",
              "  .colab-df-quickchart-complete:disabled:hover {\n",
              "    background-color: var(--disabled-bg-color);\n",
              "    fill: var(--disabled-fill-color);\n",
              "    box-shadow: none;\n",
              "  }\n",
              "\n",
              "  .colab-df-spinner {\n",
              "    border: 2px solid var(--fill-color);\n",
              "    border-color: transparent;\n",
              "    border-bottom-color: var(--fill-color);\n",
              "    animation:\n",
              "      spin 1s steps(1) infinite;\n",
              "  }\n",
              "\n",
              "  @keyframes spin {\n",
              "    0% {\n",
              "      border-color: transparent;\n",
              "      border-bottom-color: var(--fill-color);\n",
              "      border-left-color: var(--fill-color);\n",
              "    }\n",
              "    20% {\n",
              "      border-color: transparent;\n",
              "      border-left-color: var(--fill-color);\n",
              "      border-top-color: var(--fill-color);\n",
              "    }\n",
              "    30% {\n",
              "      border-color: transparent;\n",
              "      border-left-color: var(--fill-color);\n",
              "      border-top-color: var(--fill-color);\n",
              "      border-right-color: var(--fill-color);\n",
              "    }\n",
              "    40% {\n",
              "      border-color: transparent;\n",
              "      border-right-color: var(--fill-color);\n",
              "      border-top-color: var(--fill-color);\n",
              "    }\n",
              "    60% {\n",
              "      border-color: transparent;\n",
              "      border-right-color: var(--fill-color);\n",
              "    }\n",
              "    80% {\n",
              "      border-color: transparent;\n",
              "      border-right-color: var(--fill-color);\n",
              "      border-bottom-color: var(--fill-color);\n",
              "    }\n",
              "    90% {\n",
              "      border-color: transparent;\n",
              "      border-bottom-color: var(--fill-color);\n",
              "    }\n",
              "  }\n",
              "</style>\n",
              "\n",
              "  <script>\n",
              "    async function quickchart(key) {\n",
              "      const quickchartButtonEl =\n",
              "        document.querySelector('#' + key + ' button');\n",
              "      quickchartButtonEl.disabled = true;  // To prevent multiple clicks.\n",
              "      quickchartButtonEl.classList.add('colab-df-spinner');\n",
              "      try {\n",
              "        const charts = await google.colab.kernel.invokeFunction(\n",
              "            'suggestCharts', [key], {});\n",
              "      } catch (error) {\n",
              "        console.error('Error during call to suggestCharts:', error);\n",
              "      }\n",
              "      quickchartButtonEl.classList.remove('colab-df-spinner');\n",
              "      quickchartButtonEl.classList.add('colab-df-quickchart-complete');\n",
              "    }\n",
              "    (() => {\n",
              "      let quickchartButtonEl =\n",
              "        document.querySelector('#df-7a02bebd-db65-4f45-bcaa-38a7f575dcfb button');\n",
              "      quickchartButtonEl.style.display =\n",
              "        google.colab.kernel.accessAllowed ? 'block' : 'none';\n",
              "    })();\n",
              "  </script>\n",
              "</div>\n",
              "\n",
              "    </div>\n",
              "  </div>\n"
            ]
          },
          "metadata": {},
          "execution_count": 293
        }
      ]
    },
    {
      "cell_type": "markdown",
      "source": [
        "Here, We can see the dataset that 'show_id' column is Permanently removed in the dataset."
      ],
      "metadata": {
        "id": "GLKMls7RcOyn"
      }
    },
    {
      "cell_type": "code",
      "source": [
        "# Now check the shape of the Dataset\n",
        "df.shape"
      ],
      "metadata": {
        "colab": {
          "base_uri": "https://localhost:8080/"
        },
        "id": "ESPdwba2b9gn",
        "outputId": "79bda79d-5582-4361-f379-4e183db50987"
      },
      "execution_count": null,
      "outputs": [
        {
          "output_type": "execute_result",
          "data": {
            "text/plain": [
              "(8807, 11)"
            ]
          },
          "metadata": {},
          "execution_count": 294
        }
      ]
    },
    {
      "cell_type": "markdown",
      "source": [
        "Here we see the dataset contains **8807** Rows and **11** Columns. Perviously **12** columns now 'show_id' column is permanently removed."
      ],
      "metadata": {
        "id": "Cxb-mAPxc_gY"
      }
    },
    {
      "cell_type": "code",
      "source": [
        "# Converting 'release_year' to 'object' because we will be using it as a Categorical Feature\n",
        "df['release_year'] = df['release_year'].astype(object)\n",
        "\n",
        "# Converting 'date_added' to 'datetime' because we will be performing yearly/monthly Analysis\n",
        "df['date_added'] = pd.to_datetime(df['date_added'], infer_datetime_format=True).dt.date"
      ],
      "metadata": {
        "id": "KXuP4SZNc158"
      },
      "execution_count": null,
      "outputs": []
    },
    {
      "cell_type": "code",
      "source": [
        "# Since now we have all our columns as Categorical, 'df.describe' would print Statistical Summary of the data without explicitly mentioning 'include=object'\n",
        "df.describe(datetime_is_numeric=False)"
      ],
      "metadata": {
        "colab": {
          "base_uri": "https://localhost:8080/",
          "height": 264
        },
        "id": "VFxEB2vSjoT-",
        "outputId": "e9077438-73d2-42d3-ba8b-e54335ab6c88"
      },
      "execution_count": null,
      "outputs": [
        {
          "output_type": "execute_result",
          "data": {
            "text/plain": [
              "         type                 title       director                cast  \\\n",
              "count    8807                  8807           6173                7982   \n",
              "unique      2                  8807           4528                7692   \n",
              "top     Movie  Dick Johnson Is Dead  Rajiv Chilaka  David Attenborough   \n",
              "freq     6131                     1             19                  19   \n",
              "\n",
              "              country  date_added  release_year rating  duration  \\\n",
              "count            7976        8797          8807   8803      8804   \n",
              "unique            748        1714            74     17       220   \n",
              "top     United States  2020-01-01          2018  TV-MA  1 Season   \n",
              "freq             2818         110          1147   3207      1793   \n",
              "\n",
              "                           listed_in  \\\n",
              "count                           8807   \n",
              "unique                           514   \n",
              "top     Dramas, International Movies   \n",
              "freq                             362   \n",
              "\n",
              "                                              description  \n",
              "count                                                8807  \n",
              "unique                                               8775  \n",
              "top     Paranormal activity at a lush, abandoned prope...  \n",
              "freq                                                    4  "
            ],
            "text/html": [
              "\n",
              "  <div id=\"df-293becc5-eaa4-4225-9601-44b6d371e883\" class=\"colab-df-container\">\n",
              "    <div>\n",
              "<style scoped>\n",
              "    .dataframe tbody tr th:only-of-type {\n",
              "        vertical-align: middle;\n",
              "    }\n",
              "\n",
              "    .dataframe tbody tr th {\n",
              "        vertical-align: top;\n",
              "    }\n",
              "\n",
              "    .dataframe thead th {\n",
              "        text-align: right;\n",
              "    }\n",
              "</style>\n",
              "<table border=\"1\" class=\"dataframe\">\n",
              "  <thead>\n",
              "    <tr style=\"text-align: right;\">\n",
              "      <th></th>\n",
              "      <th>type</th>\n",
              "      <th>title</th>\n",
              "      <th>director</th>\n",
              "      <th>cast</th>\n",
              "      <th>country</th>\n",
              "      <th>date_added</th>\n",
              "      <th>release_year</th>\n",
              "      <th>rating</th>\n",
              "      <th>duration</th>\n",
              "      <th>listed_in</th>\n",
              "      <th>description</th>\n",
              "    </tr>\n",
              "  </thead>\n",
              "  <tbody>\n",
              "    <tr>\n",
              "      <th>count</th>\n",
              "      <td>8807</td>\n",
              "      <td>8807</td>\n",
              "      <td>6173</td>\n",
              "      <td>7982</td>\n",
              "      <td>7976</td>\n",
              "      <td>8797</td>\n",
              "      <td>8807</td>\n",
              "      <td>8803</td>\n",
              "      <td>8804</td>\n",
              "      <td>8807</td>\n",
              "      <td>8807</td>\n",
              "    </tr>\n",
              "    <tr>\n",
              "      <th>unique</th>\n",
              "      <td>2</td>\n",
              "      <td>8807</td>\n",
              "      <td>4528</td>\n",
              "      <td>7692</td>\n",
              "      <td>748</td>\n",
              "      <td>1714</td>\n",
              "      <td>74</td>\n",
              "      <td>17</td>\n",
              "      <td>220</td>\n",
              "      <td>514</td>\n",
              "      <td>8775</td>\n",
              "    </tr>\n",
              "    <tr>\n",
              "      <th>top</th>\n",
              "      <td>Movie</td>\n",
              "      <td>Dick Johnson Is Dead</td>\n",
              "      <td>Rajiv Chilaka</td>\n",
              "      <td>David Attenborough</td>\n",
              "      <td>United States</td>\n",
              "      <td>2020-01-01</td>\n",
              "      <td>2018</td>\n",
              "      <td>TV-MA</td>\n",
              "      <td>1 Season</td>\n",
              "      <td>Dramas, International Movies</td>\n",
              "      <td>Paranormal activity at a lush, abandoned prope...</td>\n",
              "    </tr>\n",
              "    <tr>\n",
              "      <th>freq</th>\n",
              "      <td>6131</td>\n",
              "      <td>1</td>\n",
              "      <td>19</td>\n",
              "      <td>19</td>\n",
              "      <td>2818</td>\n",
              "      <td>110</td>\n",
              "      <td>1147</td>\n",
              "      <td>3207</td>\n",
              "      <td>1793</td>\n",
              "      <td>362</td>\n",
              "      <td>4</td>\n",
              "    </tr>\n",
              "  </tbody>\n",
              "</table>\n",
              "</div>\n",
              "    <div class=\"colab-df-buttons\">\n",
              "\n",
              "  <div class=\"colab-df-container\">\n",
              "    <button class=\"colab-df-convert\" onclick=\"convertToInteractive('df-293becc5-eaa4-4225-9601-44b6d371e883')\"\n",
              "            title=\"Convert this dataframe to an interactive table.\"\n",
              "            style=\"display:none;\">\n",
              "\n",
              "  <svg xmlns=\"http://www.w3.org/2000/svg\" height=\"24px\" viewBox=\"0 -960 960 960\">\n",
              "    <path d=\"M120-120v-720h720v720H120Zm60-500h600v-160H180v160Zm220 220h160v-160H400v160Zm0 220h160v-160H400v160ZM180-400h160v-160H180v160Zm440 0h160v-160H620v160ZM180-180h160v-160H180v160Zm440 0h160v-160H620v160Z\"/>\n",
              "  </svg>\n",
              "    </button>\n",
              "\n",
              "  <style>\n",
              "    .colab-df-container {\n",
              "      display:flex;\n",
              "      gap: 12px;\n",
              "    }\n",
              "\n",
              "    .colab-df-convert {\n",
              "      background-color: #E8F0FE;\n",
              "      border: none;\n",
              "      border-radius: 50%;\n",
              "      cursor: pointer;\n",
              "      display: none;\n",
              "      fill: #1967D2;\n",
              "      height: 32px;\n",
              "      padding: 0 0 0 0;\n",
              "      width: 32px;\n",
              "    }\n",
              "\n",
              "    .colab-df-convert:hover {\n",
              "      background-color: #E2EBFA;\n",
              "      box-shadow: 0px 1px 2px rgba(60, 64, 67, 0.3), 0px 1px 3px 1px rgba(60, 64, 67, 0.15);\n",
              "      fill: #174EA6;\n",
              "    }\n",
              "\n",
              "    .colab-df-buttons div {\n",
              "      margin-bottom: 4px;\n",
              "    }\n",
              "\n",
              "    [theme=dark] .colab-df-convert {\n",
              "      background-color: #3B4455;\n",
              "      fill: #D2E3FC;\n",
              "    }\n",
              "\n",
              "    [theme=dark] .colab-df-convert:hover {\n",
              "      background-color: #434B5C;\n",
              "      box-shadow: 0px 1px 3px 1px rgba(0, 0, 0, 0.15);\n",
              "      filter: drop-shadow(0px 1px 2px rgba(0, 0, 0, 0.3));\n",
              "      fill: #FFFFFF;\n",
              "    }\n",
              "  </style>\n",
              "\n",
              "    <script>\n",
              "      const buttonEl =\n",
              "        document.querySelector('#df-293becc5-eaa4-4225-9601-44b6d371e883 button.colab-df-convert');\n",
              "      buttonEl.style.display =\n",
              "        google.colab.kernel.accessAllowed ? 'block' : 'none';\n",
              "\n",
              "      async function convertToInteractive(key) {\n",
              "        const element = document.querySelector('#df-293becc5-eaa4-4225-9601-44b6d371e883');\n",
              "        const dataTable =\n",
              "          await google.colab.kernel.invokeFunction('convertToInteractive',\n",
              "                                                    [key], {});\n",
              "        if (!dataTable) return;\n",
              "\n",
              "        const docLinkHtml = 'Like what you see? Visit the ' +\n",
              "          '<a target=\"_blank\" href=https://colab.research.google.com/notebooks/data_table.ipynb>data table notebook</a>'\n",
              "          + ' to learn more about interactive tables.';\n",
              "        element.innerHTML = '';\n",
              "        dataTable['output_type'] = 'display_data';\n",
              "        await google.colab.output.renderOutput(dataTable, element);\n",
              "        const docLink = document.createElement('div');\n",
              "        docLink.innerHTML = docLinkHtml;\n",
              "        element.appendChild(docLink);\n",
              "      }\n",
              "    </script>\n",
              "  </div>\n",
              "\n",
              "\n",
              "<div id=\"df-608be3e6-5578-4830-ad58-abb1f9a1558a\">\n",
              "  <button class=\"colab-df-quickchart\" onclick=\"quickchart('df-608be3e6-5578-4830-ad58-abb1f9a1558a')\"\n",
              "            title=\"Suggest charts\"\n",
              "            style=\"display:none;\">\n",
              "\n",
              "<svg xmlns=\"http://www.w3.org/2000/svg\" height=\"24px\"viewBox=\"0 0 24 24\"\n",
              "     width=\"24px\">\n",
              "    <g>\n",
              "        <path d=\"M19 3H5c-1.1 0-2 .9-2 2v14c0 1.1.9 2 2 2h14c1.1 0 2-.9 2-2V5c0-1.1-.9-2-2-2zM9 17H7v-7h2v7zm4 0h-2V7h2v10zm4 0h-2v-4h2v4z\"/>\n",
              "    </g>\n",
              "</svg>\n",
              "  </button>\n",
              "\n",
              "<style>\n",
              "  .colab-df-quickchart {\n",
              "      --bg-color: #E8F0FE;\n",
              "      --fill-color: #1967D2;\n",
              "      --hover-bg-color: #E2EBFA;\n",
              "      --hover-fill-color: #174EA6;\n",
              "      --disabled-fill-color: #AAA;\n",
              "      --disabled-bg-color: #DDD;\n",
              "  }\n",
              "\n",
              "  [theme=dark] .colab-df-quickchart {\n",
              "      --bg-color: #3B4455;\n",
              "      --fill-color: #D2E3FC;\n",
              "      --hover-bg-color: #434B5C;\n",
              "      --hover-fill-color: #FFFFFF;\n",
              "      --disabled-bg-color: #3B4455;\n",
              "      --disabled-fill-color: #666;\n",
              "  }\n",
              "\n",
              "  .colab-df-quickchart {\n",
              "    background-color: var(--bg-color);\n",
              "    border: none;\n",
              "    border-radius: 50%;\n",
              "    cursor: pointer;\n",
              "    display: none;\n",
              "    fill: var(--fill-color);\n",
              "    height: 32px;\n",
              "    padding: 0;\n",
              "    width: 32px;\n",
              "  }\n",
              "\n",
              "  .colab-df-quickchart:hover {\n",
              "    background-color: var(--hover-bg-color);\n",
              "    box-shadow: 0 1px 2px rgba(60, 64, 67, 0.3), 0 1px 3px 1px rgba(60, 64, 67, 0.15);\n",
              "    fill: var(--button-hover-fill-color);\n",
              "  }\n",
              "\n",
              "  .colab-df-quickchart-complete:disabled,\n",
              "  .colab-df-quickchart-complete:disabled:hover {\n",
              "    background-color: var(--disabled-bg-color);\n",
              "    fill: var(--disabled-fill-color);\n",
              "    box-shadow: none;\n",
              "  }\n",
              "\n",
              "  .colab-df-spinner {\n",
              "    border: 2px solid var(--fill-color);\n",
              "    border-color: transparent;\n",
              "    border-bottom-color: var(--fill-color);\n",
              "    animation:\n",
              "      spin 1s steps(1) infinite;\n",
              "  }\n",
              "\n",
              "  @keyframes spin {\n",
              "    0% {\n",
              "      border-color: transparent;\n",
              "      border-bottom-color: var(--fill-color);\n",
              "      border-left-color: var(--fill-color);\n",
              "    }\n",
              "    20% {\n",
              "      border-color: transparent;\n",
              "      border-left-color: var(--fill-color);\n",
              "      border-top-color: var(--fill-color);\n",
              "    }\n",
              "    30% {\n",
              "      border-color: transparent;\n",
              "      border-left-color: var(--fill-color);\n",
              "      border-top-color: var(--fill-color);\n",
              "      border-right-color: var(--fill-color);\n",
              "    }\n",
              "    40% {\n",
              "      border-color: transparent;\n",
              "      border-right-color: var(--fill-color);\n",
              "      border-top-color: var(--fill-color);\n",
              "    }\n",
              "    60% {\n",
              "      border-color: transparent;\n",
              "      border-right-color: var(--fill-color);\n",
              "    }\n",
              "    80% {\n",
              "      border-color: transparent;\n",
              "      border-right-color: var(--fill-color);\n",
              "      border-bottom-color: var(--fill-color);\n",
              "    }\n",
              "    90% {\n",
              "      border-color: transparent;\n",
              "      border-bottom-color: var(--fill-color);\n",
              "    }\n",
              "  }\n",
              "</style>\n",
              "\n",
              "  <script>\n",
              "    async function quickchart(key) {\n",
              "      const quickchartButtonEl =\n",
              "        document.querySelector('#' + key + ' button');\n",
              "      quickchartButtonEl.disabled = true;  // To prevent multiple clicks.\n",
              "      quickchartButtonEl.classList.add('colab-df-spinner');\n",
              "      try {\n",
              "        const charts = await google.colab.kernel.invokeFunction(\n",
              "            'suggestCharts', [key], {});\n",
              "      } catch (error) {\n",
              "        console.error('Error during call to suggestCharts:', error);\n",
              "      }\n",
              "      quickchartButtonEl.classList.remove('colab-df-spinner');\n",
              "      quickchartButtonEl.classList.add('colab-df-quickchart-complete');\n",
              "    }\n",
              "    (() => {\n",
              "      let quickchartButtonEl =\n",
              "        document.querySelector('#df-608be3e6-5578-4830-ad58-abb1f9a1558a button');\n",
              "      quickchartButtonEl.style.display =\n",
              "        google.colab.kernel.accessAllowed ? 'block' : 'none';\n",
              "    })();\n",
              "  </script>\n",
              "</div>\n",
              "\n",
              "    </div>\n",
              "  </div>\n"
            ]
          },
          "metadata": {},
          "execution_count": 296
        }
      ]
    },
    {
      "cell_type": "code",
      "source": [
        "# Treating the missing values\n",
        "df.isna().sum()"
      ],
      "metadata": {
        "colab": {
          "base_uri": "https://localhost:8080/"
        },
        "id": "jGOHgyF0lmz6",
        "outputId": "73a689bd-6b97-46bd-e75c-d62a819f831d"
      },
      "execution_count": null,
      "outputs": [
        {
          "output_type": "execute_result",
          "data": {
            "text/plain": [
              "type               0\n",
              "title              0\n",
              "director        2634\n",
              "cast             825\n",
              "country          831\n",
              "date_added        10\n",
              "release_year       0\n",
              "rating             4\n",
              "duration           3\n",
              "listed_in          0\n",
              "description        0\n",
              "dtype: int64"
            ]
          },
          "metadata": {},
          "execution_count": 297
        }
      ]
    },
    {
      "cell_type": "markdown",
      "source": [
        "Here, We see some columns having missing values so we can treat with some techniquies.\n",
        "**Imputation** is a treatment method for missing value by filling it in using\n",
        "certain techniques.\n",
        "\n",
        "You can employ **mean**, **mode**, or **predictive modeling** techniques for handling **missing values**. In this case study, we will explore the utilization of Pandas' **fillna** function for **imputation**. Alternatively, you can eliminate rows with missing values by using the **dropna** function from Pandas.\n",
        "\n",
        "\n",
        "\n",
        "\n",
        "\n",
        "\n",
        "\n"
      ],
      "metadata": {
        "id": "2q1h3Yuaq-Sa"
      }
    },
    {
      "cell_type": "code",
      "source": [
        "#Filling and droping the missing Values\n",
        "df['director'].fillna(\"Anonymous\", inplace=True)\n",
        "df['cast'].fillna(\"Anonymous\", inplace=True)\n",
        "df['country'].fillna(\"Not Available\", inplace=True)\n",
        "df.dropna(subset=['date_added', 'rating', 'duration'], inplace=True)"
      ],
      "metadata": {
        "id": "QwIPkwLq0DPN"
      },
      "execution_count": null,
      "outputs": []
    },
    {
      "cell_type": "markdown",
      "source": [
        "While the easiest way to handle missing values is to delete rows containing them, this approach is not conducive to effective Exploratory Data Analysis (EDA) as it results in information loss.\n",
        "\n",
        "*   Given that '**director**', '**cast**' and '**country**' feature a **significant number of null values**, So, we've opted to consider each missing value as indicating for '**director**' and '**cast**' as \"**Anonymous**\" and '**country**' as \"**Not Available**\".\n",
        "\n",
        "*   However, for the labels '**date_added**', '**duration**' and '**rating**' which represent a **small number of null values** of the data, we have chosen to **remove them from the dataset**. As a result, the data frame is now **free of any missing values**.\n",
        "\n",
        "  \n",
        "\n",
        "\n",
        "\n",
        "\n",
        "\n",
        "\n"
      ],
      "metadata": {
        "id": "hPDiBpj_vRYm"
      }
    },
    {
      "cell_type": "code",
      "source": [
        "# Now checking the missing Values\n",
        "df.isna().sum()"
      ],
      "metadata": {
        "colab": {
          "base_uri": "https://localhost:8080/"
        },
        "id": "v-7csUIYtr2Q",
        "outputId": "3b92a6bd-9524-4df4-caca-034f07b3aa34"
      },
      "execution_count": null,
      "outputs": [
        {
          "output_type": "execute_result",
          "data": {
            "text/plain": [
              "type            0\n",
              "title           0\n",
              "director        0\n",
              "cast            0\n",
              "country         0\n",
              "date_added      0\n",
              "release_year    0\n",
              "rating          0\n",
              "duration        0\n",
              "listed_in       0\n",
              "description     0\n",
              "dtype: int64"
            ]
          },
          "metadata": {},
          "execution_count": 299
        }
      ]
    },
    {
      "cell_type": "markdown",
      "source": [
        "Here we can see all the columns doesn't have any of null values."
      ],
      "metadata": {
        "id": "DljJFT2KyjR-"
      }
    },
    {
      "cell_type": "code",
      "source": [
        "# Spliting and exploding in the dataset\n",
        "for column_name in ['director', 'cast', 'listed_in', 'country']:\n",
        "    df[column_name] = df[column_name].apply(lambda x: x.split(',') if isinstance(x, str) else x)\n",
        "\n",
        "df = df.explode('director').explode('cast').explode('listed_in').explode('country')\n",
        "\n",
        "for col in df.select_dtypes(object):\n",
        "    df[col] = df[col].astype(str).str.strip()\n",
        "\n",
        "df.shape"
      ],
      "metadata": {
        "colab": {
          "base_uri": "https://localhost:8080/"
        },
        "id": "NgWkEvx1qaCm",
        "outputId": "d973449c-19b2-457e-b5ab-ce3fb6df10df"
      },
      "execution_count": null,
      "outputs": [
        {
          "output_type": "execute_result",
          "data": {
            "text/plain": [
              "(201837, 11)"
            ]
          },
          "metadata": {},
          "execution_count": 300
        }
      ]
    },
    {
      "cell_type": "markdown",
      "source": [
        "**Inference**: By splitting and exploding the dataset based on specific columns, such as \"director,\" \"cast,\" \"listed_in,\" and \"country,\" the data has been expanded, providing a more granular view. This process enables a detailed exploration of individual entries, facilitating analysis on multiple dimensions, such as diverse directors, cast members, genres, and countries associated with each entry."
      ],
      "metadata": {
        "id": "Vt5foHH4tZK-"
      }
    },
    {
      "cell_type": "code",
      "source": [
        "# Checking the duplicates\n",
        "df.duplicated().sum()"
      ],
      "metadata": {
        "colab": {
          "base_uri": "https://localhost:8080/"
        },
        "id": "gFw5gcMdq4YF",
        "outputId": "57f1d39d-4d04-4e23-dd49-1d4958d00393"
      },
      "execution_count": null,
      "outputs": [
        {
          "output_type": "execute_result",
          "data": {
            "text/plain": [
              "79"
            ]
          },
          "metadata": {},
          "execution_count": 301
        }
      ]
    },
    {
      "cell_type": "code",
      "source": [
        "# dropping the duplicates\n",
        "df.drop_duplicates(inplace=True)\n",
        "df.reset_index(drop=True, inplace=True)"
      ],
      "metadata": {
        "id": "Y9OU1gCSrClb"
      },
      "execution_count": null,
      "outputs": []
    },
    {
      "cell_type": "code",
      "source": [
        "#final shape of the dataset after data cleaning\n",
        "df.shape"
      ],
      "metadata": {
        "colab": {
          "base_uri": "https://localhost:8080/"
        },
        "id": "QL6U4NPyrHYk",
        "outputId": "c67f2967-dea1-4527-e4bc-de92ac71b77f"
      },
      "execution_count": null,
      "outputs": [
        {
          "output_type": "execute_result",
          "data": {
            "text/plain": [
              "(201758, 11)"
            ]
          },
          "metadata": {},
          "execution_count": 303
        }
      ]
    },
    {
      "cell_type": "markdown",
      "source": [
        "Here, we observe that after data cleaning, the overall dataset containss **201758** rows and **11** columns"
      ],
      "metadata": {
        "id": "h2snUfld73zc"
      }
    },
    {
      "cell_type": "code",
      "source": [
        "df.head(5)"
      ],
      "metadata": {
        "colab": {
          "base_uri": "https://localhost:8080/",
          "height": 556
        },
        "id": "s5s_Lk6L8s5g",
        "outputId": "3b508fbd-34ac-4b42-aee6-21f2fccb4f25"
      },
      "execution_count": null,
      "outputs": [
        {
          "output_type": "execute_result",
          "data": {
            "text/plain": [
              "      type                 title         director         cast        country  \\\n",
              "0    Movie  Dick Johnson Is Dead  Kirsten Johnson    Anonymous  United States   \n",
              "1  TV Show         Blood & Water        Anonymous   Ama Qamata   South Africa   \n",
              "2  TV Show         Blood & Water        Anonymous   Ama Qamata   South Africa   \n",
              "3  TV Show         Blood & Water        Anonymous   Ama Qamata   South Africa   \n",
              "4  TV Show         Blood & Water        Anonymous  Khosi Ngema   South Africa   \n",
              "\n",
              "   date_added release_year rating   duration               listed_in  \\\n",
              "0  2021-09-25         2020  PG-13     90 min           Documentaries   \n",
              "1  2021-09-24         2021  TV-MA  2 Seasons  International TV Shows   \n",
              "2  2021-09-24         2021  TV-MA  2 Seasons               TV Dramas   \n",
              "3  2021-09-24         2021  TV-MA  2 Seasons            TV Mysteries   \n",
              "4  2021-09-24         2021  TV-MA  2 Seasons  International TV Shows   \n",
              "\n",
              "                                         description  \n",
              "0  As her father nears the end of his life, filmm...  \n",
              "1  After crossing paths at a party, a Cape Town t...  \n",
              "2  After crossing paths at a party, a Cape Town t...  \n",
              "3  After crossing paths at a party, a Cape Town t...  \n",
              "4  After crossing paths at a party, a Cape Town t...  "
            ],
            "text/html": [
              "\n",
              "  <div id=\"df-9d86312e-50a3-4f9e-ba45-b9c597399971\" class=\"colab-df-container\">\n",
              "    <div>\n",
              "<style scoped>\n",
              "    .dataframe tbody tr th:only-of-type {\n",
              "        vertical-align: middle;\n",
              "    }\n",
              "\n",
              "    .dataframe tbody tr th {\n",
              "        vertical-align: top;\n",
              "    }\n",
              "\n",
              "    .dataframe thead th {\n",
              "        text-align: right;\n",
              "    }\n",
              "</style>\n",
              "<table border=\"1\" class=\"dataframe\">\n",
              "  <thead>\n",
              "    <tr style=\"text-align: right;\">\n",
              "      <th></th>\n",
              "      <th>type</th>\n",
              "      <th>title</th>\n",
              "      <th>director</th>\n",
              "      <th>cast</th>\n",
              "      <th>country</th>\n",
              "      <th>date_added</th>\n",
              "      <th>release_year</th>\n",
              "      <th>rating</th>\n",
              "      <th>duration</th>\n",
              "      <th>listed_in</th>\n",
              "      <th>description</th>\n",
              "    </tr>\n",
              "  </thead>\n",
              "  <tbody>\n",
              "    <tr>\n",
              "      <th>0</th>\n",
              "      <td>Movie</td>\n",
              "      <td>Dick Johnson Is Dead</td>\n",
              "      <td>Kirsten Johnson</td>\n",
              "      <td>Anonymous</td>\n",
              "      <td>United States</td>\n",
              "      <td>2021-09-25</td>\n",
              "      <td>2020</td>\n",
              "      <td>PG-13</td>\n",
              "      <td>90 min</td>\n",
              "      <td>Documentaries</td>\n",
              "      <td>As her father nears the end of his life, filmm...</td>\n",
              "    </tr>\n",
              "    <tr>\n",
              "      <th>1</th>\n",
              "      <td>TV Show</td>\n",
              "      <td>Blood &amp; Water</td>\n",
              "      <td>Anonymous</td>\n",
              "      <td>Ama Qamata</td>\n",
              "      <td>South Africa</td>\n",
              "      <td>2021-09-24</td>\n",
              "      <td>2021</td>\n",
              "      <td>TV-MA</td>\n",
              "      <td>2 Seasons</td>\n",
              "      <td>International TV Shows</td>\n",
              "      <td>After crossing paths at a party, a Cape Town t...</td>\n",
              "    </tr>\n",
              "    <tr>\n",
              "      <th>2</th>\n",
              "      <td>TV Show</td>\n",
              "      <td>Blood &amp; Water</td>\n",
              "      <td>Anonymous</td>\n",
              "      <td>Ama Qamata</td>\n",
              "      <td>South Africa</td>\n",
              "      <td>2021-09-24</td>\n",
              "      <td>2021</td>\n",
              "      <td>TV-MA</td>\n",
              "      <td>2 Seasons</td>\n",
              "      <td>TV Dramas</td>\n",
              "      <td>After crossing paths at a party, a Cape Town t...</td>\n",
              "    </tr>\n",
              "    <tr>\n",
              "      <th>3</th>\n",
              "      <td>TV Show</td>\n",
              "      <td>Blood &amp; Water</td>\n",
              "      <td>Anonymous</td>\n",
              "      <td>Ama Qamata</td>\n",
              "      <td>South Africa</td>\n",
              "      <td>2021-09-24</td>\n",
              "      <td>2021</td>\n",
              "      <td>TV-MA</td>\n",
              "      <td>2 Seasons</td>\n",
              "      <td>TV Mysteries</td>\n",
              "      <td>After crossing paths at a party, a Cape Town t...</td>\n",
              "    </tr>\n",
              "    <tr>\n",
              "      <th>4</th>\n",
              "      <td>TV Show</td>\n",
              "      <td>Blood &amp; Water</td>\n",
              "      <td>Anonymous</td>\n",
              "      <td>Khosi Ngema</td>\n",
              "      <td>South Africa</td>\n",
              "      <td>2021-09-24</td>\n",
              "      <td>2021</td>\n",
              "      <td>TV-MA</td>\n",
              "      <td>2 Seasons</td>\n",
              "      <td>International TV Shows</td>\n",
              "      <td>After crossing paths at a party, a Cape Town t...</td>\n",
              "    </tr>\n",
              "  </tbody>\n",
              "</table>\n",
              "</div>\n",
              "    <div class=\"colab-df-buttons\">\n",
              "\n",
              "  <div class=\"colab-df-container\">\n",
              "    <button class=\"colab-df-convert\" onclick=\"convertToInteractive('df-9d86312e-50a3-4f9e-ba45-b9c597399971')\"\n",
              "            title=\"Convert this dataframe to an interactive table.\"\n",
              "            style=\"display:none;\">\n",
              "\n",
              "  <svg xmlns=\"http://www.w3.org/2000/svg\" height=\"24px\" viewBox=\"0 -960 960 960\">\n",
              "    <path d=\"M120-120v-720h720v720H120Zm60-500h600v-160H180v160Zm220 220h160v-160H400v160Zm0 220h160v-160H400v160ZM180-400h160v-160H180v160Zm440 0h160v-160H620v160ZM180-180h160v-160H180v160Zm440 0h160v-160H620v160Z\"/>\n",
              "  </svg>\n",
              "    </button>\n",
              "\n",
              "  <style>\n",
              "    .colab-df-container {\n",
              "      display:flex;\n",
              "      gap: 12px;\n",
              "    }\n",
              "\n",
              "    .colab-df-convert {\n",
              "      background-color: #E8F0FE;\n",
              "      border: none;\n",
              "      border-radius: 50%;\n",
              "      cursor: pointer;\n",
              "      display: none;\n",
              "      fill: #1967D2;\n",
              "      height: 32px;\n",
              "      padding: 0 0 0 0;\n",
              "      width: 32px;\n",
              "    }\n",
              "\n",
              "    .colab-df-convert:hover {\n",
              "      background-color: #E2EBFA;\n",
              "      box-shadow: 0px 1px 2px rgba(60, 64, 67, 0.3), 0px 1px 3px 1px rgba(60, 64, 67, 0.15);\n",
              "      fill: #174EA6;\n",
              "    }\n",
              "\n",
              "    .colab-df-buttons div {\n",
              "      margin-bottom: 4px;\n",
              "    }\n",
              "\n",
              "    [theme=dark] .colab-df-convert {\n",
              "      background-color: #3B4455;\n",
              "      fill: #D2E3FC;\n",
              "    }\n",
              "\n",
              "    [theme=dark] .colab-df-convert:hover {\n",
              "      background-color: #434B5C;\n",
              "      box-shadow: 0px 1px 3px 1px rgba(0, 0, 0, 0.15);\n",
              "      filter: drop-shadow(0px 1px 2px rgba(0, 0, 0, 0.3));\n",
              "      fill: #FFFFFF;\n",
              "    }\n",
              "  </style>\n",
              "\n",
              "    <script>\n",
              "      const buttonEl =\n",
              "        document.querySelector('#df-9d86312e-50a3-4f9e-ba45-b9c597399971 button.colab-df-convert');\n",
              "      buttonEl.style.display =\n",
              "        google.colab.kernel.accessAllowed ? 'block' : 'none';\n",
              "\n",
              "      async function convertToInteractive(key) {\n",
              "        const element = document.querySelector('#df-9d86312e-50a3-4f9e-ba45-b9c597399971');\n",
              "        const dataTable =\n",
              "          await google.colab.kernel.invokeFunction('convertToInteractive',\n",
              "                                                    [key], {});\n",
              "        if (!dataTable) return;\n",
              "\n",
              "        const docLinkHtml = 'Like what you see? Visit the ' +\n",
              "          '<a target=\"_blank\" href=https://colab.research.google.com/notebooks/data_table.ipynb>data table notebook</a>'\n",
              "          + ' to learn more about interactive tables.';\n",
              "        element.innerHTML = '';\n",
              "        dataTable['output_type'] = 'display_data';\n",
              "        await google.colab.output.renderOutput(dataTable, element);\n",
              "        const docLink = document.createElement('div');\n",
              "        docLink.innerHTML = docLinkHtml;\n",
              "        element.appendChild(docLink);\n",
              "      }\n",
              "    </script>\n",
              "  </div>\n",
              "\n",
              "\n",
              "<div id=\"df-8cd61b37-13eb-4b68-8927-e0534363b4cd\">\n",
              "  <button class=\"colab-df-quickchart\" onclick=\"quickchart('df-8cd61b37-13eb-4b68-8927-e0534363b4cd')\"\n",
              "            title=\"Suggest charts\"\n",
              "            style=\"display:none;\">\n",
              "\n",
              "<svg xmlns=\"http://www.w3.org/2000/svg\" height=\"24px\"viewBox=\"0 0 24 24\"\n",
              "     width=\"24px\">\n",
              "    <g>\n",
              "        <path d=\"M19 3H5c-1.1 0-2 .9-2 2v14c0 1.1.9 2 2 2h14c1.1 0 2-.9 2-2V5c0-1.1-.9-2-2-2zM9 17H7v-7h2v7zm4 0h-2V7h2v10zm4 0h-2v-4h2v4z\"/>\n",
              "    </g>\n",
              "</svg>\n",
              "  </button>\n",
              "\n",
              "<style>\n",
              "  .colab-df-quickchart {\n",
              "      --bg-color: #E8F0FE;\n",
              "      --fill-color: #1967D2;\n",
              "      --hover-bg-color: #E2EBFA;\n",
              "      --hover-fill-color: #174EA6;\n",
              "      --disabled-fill-color: #AAA;\n",
              "      --disabled-bg-color: #DDD;\n",
              "  }\n",
              "\n",
              "  [theme=dark] .colab-df-quickchart {\n",
              "      --bg-color: #3B4455;\n",
              "      --fill-color: #D2E3FC;\n",
              "      --hover-bg-color: #434B5C;\n",
              "      --hover-fill-color: #FFFFFF;\n",
              "      --disabled-bg-color: #3B4455;\n",
              "      --disabled-fill-color: #666;\n",
              "  }\n",
              "\n",
              "  .colab-df-quickchart {\n",
              "    background-color: var(--bg-color);\n",
              "    border: none;\n",
              "    border-radius: 50%;\n",
              "    cursor: pointer;\n",
              "    display: none;\n",
              "    fill: var(--fill-color);\n",
              "    height: 32px;\n",
              "    padding: 0;\n",
              "    width: 32px;\n",
              "  }\n",
              "\n",
              "  .colab-df-quickchart:hover {\n",
              "    background-color: var(--hover-bg-color);\n",
              "    box-shadow: 0 1px 2px rgba(60, 64, 67, 0.3), 0 1px 3px 1px rgba(60, 64, 67, 0.15);\n",
              "    fill: var(--button-hover-fill-color);\n",
              "  }\n",
              "\n",
              "  .colab-df-quickchart-complete:disabled,\n",
              "  .colab-df-quickchart-complete:disabled:hover {\n",
              "    background-color: var(--disabled-bg-color);\n",
              "    fill: var(--disabled-fill-color);\n",
              "    box-shadow: none;\n",
              "  }\n",
              "\n",
              "  .colab-df-spinner {\n",
              "    border: 2px solid var(--fill-color);\n",
              "    border-color: transparent;\n",
              "    border-bottom-color: var(--fill-color);\n",
              "    animation:\n",
              "      spin 1s steps(1) infinite;\n",
              "  }\n",
              "\n",
              "  @keyframes spin {\n",
              "    0% {\n",
              "      border-color: transparent;\n",
              "      border-bottom-color: var(--fill-color);\n",
              "      border-left-color: var(--fill-color);\n",
              "    }\n",
              "    20% {\n",
              "      border-color: transparent;\n",
              "      border-left-color: var(--fill-color);\n",
              "      border-top-color: var(--fill-color);\n",
              "    }\n",
              "    30% {\n",
              "      border-color: transparent;\n",
              "      border-left-color: var(--fill-color);\n",
              "      border-top-color: var(--fill-color);\n",
              "      border-right-color: var(--fill-color);\n",
              "    }\n",
              "    40% {\n",
              "      border-color: transparent;\n",
              "      border-right-color: var(--fill-color);\n",
              "      border-top-color: var(--fill-color);\n",
              "    }\n",
              "    60% {\n",
              "      border-color: transparent;\n",
              "      border-right-color: var(--fill-color);\n",
              "    }\n",
              "    80% {\n",
              "      border-color: transparent;\n",
              "      border-right-color: var(--fill-color);\n",
              "      border-bottom-color: var(--fill-color);\n",
              "    }\n",
              "    90% {\n",
              "      border-color: transparent;\n",
              "      border-bottom-color: var(--fill-color);\n",
              "    }\n",
              "  }\n",
              "</style>\n",
              "\n",
              "  <script>\n",
              "    async function quickchart(key) {\n",
              "      const quickchartButtonEl =\n",
              "        document.querySelector('#' + key + ' button');\n",
              "      quickchartButtonEl.disabled = true;  // To prevent multiple clicks.\n",
              "      quickchartButtonEl.classList.add('colab-df-spinner');\n",
              "      try {\n",
              "        const charts = await google.colab.kernel.invokeFunction(\n",
              "            'suggestCharts', [key], {});\n",
              "      } catch (error) {\n",
              "        console.error('Error during call to suggestCharts:', error);\n",
              "      }\n",
              "      quickchartButtonEl.classList.remove('colab-df-spinner');\n",
              "      quickchartButtonEl.classList.add('colab-df-quickchart-complete');\n",
              "    }\n",
              "    (() => {\n",
              "      let quickchartButtonEl =\n",
              "        document.querySelector('#df-8cd61b37-13eb-4b68-8927-e0534363b4cd button');\n",
              "      quickchartButtonEl.style.display =\n",
              "        google.colab.kernel.accessAllowed ? 'block' : 'none';\n",
              "    })();\n",
              "  </script>\n",
              "</div>\n",
              "\n",
              "    </div>\n",
              "  </div>\n"
            ]
          },
          "metadata": {},
          "execution_count": 304
        }
      ]
    },
    {
      "cell_type": "markdown",
      "source": [
        "#**Data Analysis**\n",
        "\n",
        "Non-Graphical Analysis: Value counts and unique attributes"
      ],
      "metadata": {
        "id": "Xe_Istx-02-_"
      }
    },
    {
      "cell_type": "code",
      "source": [
        "df['type'].value_counts()"
      ],
      "metadata": {
        "id": "mvoHtz8BvXIu",
        "colab": {
          "base_uri": "https://localhost:8080/"
        },
        "outputId": "4cf24c9a-89be-41b4-a829-9411999fd7cb"
      },
      "execution_count": null,
      "outputs": [
        {
          "output_type": "execute_result",
          "data": {
            "text/plain": [
              "Movie      145826\n",
              "TV Show     55932\n",
              "Name: type, dtype: int64"
            ]
          },
          "metadata": {},
          "execution_count": 305
        }
      ]
    },
    {
      "cell_type": "markdown",
      "source": [
        " **Inference A :** The dataset contains nearly **2.6 times** more movie titles than TV shows, indicating a preference for **movies among the audience.**"
      ],
      "metadata": {
        "id": "7nQIFCot5atc"
      }
    },
    {
      "cell_type": "code",
      "source": [
        "df['title'].value_counts()"
      ],
      "metadata": {
        "colab": {
          "base_uri": "https://localhost:8080/"
        },
        "id": "Aln-NX4H3Wx3",
        "outputId": "26e83898-1e5a-4a27-e013-bba8844e3b1d"
      },
      "execution_count": null,
      "outputs": [
        {
          "output_type": "execute_result",
          "data": {
            "text/plain": [
              "Kahlil Gibran's The Prophet        700\n",
              "Holidays                           504\n",
              "Movie 43                           468\n",
              "The Eddy                           416\n",
              "Narcos                             378\n",
              "                                  ... \n",
              "Bill Burr: Walk Your Way Out         1\n",
              "Grillo vs Grillo                     1\n",
              "Katherine Ryan: In Trouble           1\n",
              "Trevor Noah: Afraid of the Dark      1\n",
              "Dick Johnson Is Dead                 1\n",
              "Name: title, Length: 8789, dtype: int64"
            ]
          },
          "metadata": {},
          "execution_count": 306
        }
      ]
    },
    {
      "cell_type": "markdown",
      "source": [
        "**Inference B :** The exploding process revealed substantial variations in row expansion within the dataset. For instance, the title \"**Kahlil Gibran's The Prophet\"** expanded to **700 rows**, emphasizing significant diversity in entries. In contrast, some rows remained unchanged, indicating varying impacts of the exploding operation across the dataset."
      ],
      "metadata": {
        "id": "eCv_hl6S4VW0"
      }
    },
    {
      "cell_type": "code",
      "source": [
        "df['director'].value_counts()"
      ],
      "metadata": {
        "colab": {
          "base_uri": "https://localhost:8080/"
        },
        "id": "zhaJFW9M3p_X",
        "outputId": "d5df908d-0351-4a23-be01-20bb4bff5a5a"
      },
      "execution_count": null,
      "outputs": [
        {
          "output_type": "execute_result",
          "data": {
            "text/plain": [
              "Anonymous              50425\n",
              "Martin Scorsese          419\n",
              "Youssef Chahine          409\n",
              "Cathy Garcia-Molina      356\n",
              "Steven Spielberg         355\n",
              "                       ...  \n",
              "Judah Friedlander          1\n",
              "Jan-Peter Horns            1\n",
              "Lucy Cohen                 1\n",
              "Ali Tabrizi                1\n",
              "Kirsten Johnson            1\n",
              "Name: director, Length: 4992, dtype: int64"
            ]
          },
          "metadata": {},
          "execution_count": 307
        }
      ]
    },
    {
      "cell_type": "markdown",
      "source": [
        "**Inference C :** **Martin Scorsese** appears most frequently in our dataset, with **419** occurrences, closely followed by **Youssef Chahine** with **409** occurrences. These directors are associated with movies or TV shows featuring extensive cast members and diverse genres."
      ],
      "metadata": {
        "id": "9SrFExw16ejd"
      }
    },
    {
      "cell_type": "code",
      "source": [
        "df['cast'].value_counts()"
      ],
      "metadata": {
        "colab": {
          "base_uri": "https://localhost:8080/"
        },
        "id": "92gCzUZp3yxj",
        "outputId": "786923a9-8a31-458a-cd92-cf7ebd283581"
      },
      "execution_count": null,
      "outputs": [
        {
          "output_type": "execute_result",
          "data": {
            "text/plain": [
              "Anonymous         2149\n",
              "Liam Neeson        161\n",
              "Alfred Molina      160\n",
              "John Krasinski     139\n",
              "Salma Hayek        130\n",
              "                  ... \n",
              "David Nichtern       1\n",
              "Doug Lussenhop       1\n",
              "Trudy Goodman        1\n",
              "Damien Echols        1\n",
              "Dennis Miller        1\n",
              "Name: cast, Length: 36393, dtype: int64"
            ]
          },
          "metadata": {},
          "execution_count": 308
        }
      ]
    },
    {
      "cell_type": "markdown",
      "source": [
        "**Inference D :** **Liam Neeson** is the most frequently occurring actor in our dataset, with **161** occurrences, closely followed by **Alfred Molina** with **160** occurrences. These actors have been featured in movies or TV shows directed by multiple directors, with extensive cast members and diverse genre affiliations.\n",
        "\n",
        "\n",
        "\n",
        "\n",
        "\n",
        "\n"
      ],
      "metadata": {
        "id": "cERbYTCe3a0Z"
      }
    },
    {
      "cell_type": "code",
      "source": [
        "df['country'].value_counts()"
      ],
      "metadata": {
        "colab": {
          "base_uri": "https://localhost:8080/"
        },
        "id": "J34pSlUg3-C6",
        "outputId": "49082c9a-390b-4ae5-a02a-cdda747ce42f"
      },
      "execution_count": null,
      "outputs": [
        {
          "output_type": "execute_result",
          "data": {
            "text/plain": [
              "United States     59238\n",
              "India             22814\n",
              "United Kingdom    12938\n",
              "Not Available     11894\n",
              "Japan              8599\n",
              "                  ...  \n",
              "Panama                2\n",
              "Mongolia              2\n",
              "Kazakhstan            1\n",
              "Nicaragua             1\n",
              "Uganda                1\n",
              "Name: country, Length: 124, dtype: int64"
            ]
          },
          "metadata": {},
          "execution_count": 309
        }
      ]
    },
    {
      "cell_type": "markdown",
      "source": [
        "**Inference E :** The highest number of entries in our dataset, totaling **59,238**, corresponds to the **United States** (US), followed by **India at 22,814**. These countries exhibit a pattern of hosting content with multiple directors, a diverse cast, and a variety of genres.\n",
        "\n",
        "\n",
        "\n",
        "\n",
        "\n",
        "\n",
        "\n",
        "\n",
        "\n",
        "\n",
        "\n",
        "\n"
      ],
      "metadata": {
        "id": "K0mzXXA98Cec"
      }
    },
    {
      "cell_type": "code",
      "source": [
        "df['date_added'].value_counts().head(50)"
      ],
      "metadata": {
        "colab": {
          "base_uri": "https://localhost:8080/"
        },
        "id": "x4iH1XzM4K7-",
        "outputId": "b3e9e46c-a241-4af1-8c9e-604e21c34371"
      },
      "execution_count": null,
      "outputs": [
        {
          "output_type": "execute_result",
          "data": {
            "text/plain": [
              "2020-01-01    3748\n",
              "2019-11-01    2258\n",
              "2021-07-01    2219\n",
              "2017-10-01    1899\n",
              "2021-09-01    1756\n",
              "2018-03-01    1752\n",
              "2019-12-31    1695\n",
              "2019-10-01    1563\n",
              "2018-10-01    1419\n",
              "2021-06-02    1260\n",
              "2021-08-01    1248\n",
              "2021-01-01    1216\n",
              "2017-09-01    1210\n",
              "2018-01-01    1141\n",
              "2018-11-01    1128\n",
              "2021-07-06    1061\n",
              "2019-01-01    1059\n",
              "2017-08-01    1008\n",
              "2020-04-01    1000\n",
              "2019-09-01     970\n",
              "2020-11-01     896\n",
              "2017-07-01     888\n",
              "2020-06-01     879\n",
              "2020-10-01     867\n",
              "2019-07-01     866\n",
              "2018-04-01     847\n",
              "2021-05-01     825\n",
              "2020-07-05     817\n",
              "2017-05-01     796\n",
              "2021-04-01     792\n",
              "2019-03-01     792\n",
              "2019-02-01     787\n",
              "2019-11-20     761\n",
              "2020-09-01     753\n",
              "2018-08-01     753\n",
              "2018-07-01     747\n",
              "2016-01-01     726\n",
              "2018-12-01     715\n",
              "2017-12-01     713\n",
              "2021-08-27     702\n",
              "2019-08-01     696\n",
              "2021-06-19     685\n",
              "2019-12-01     680\n",
              "2017-11-01     664\n",
              "2019-12-15     640\n",
              "2020-10-19     628\n",
              "2020-12-01     615\n",
              "2021-04-16     610\n",
              "2017-06-01     597\n",
              "2017-03-10     593\n",
              "Name: date_added, dtype: int64"
            ]
          },
          "metadata": {},
          "execution_count": 310
        }
      ]
    },
    {
      "cell_type": "markdown",
      "source": [
        " **Inference F :** The **majority** of movies are added to the platform within the **first week of each month.**\n",
        "\n",
        "\n",
        "\n",
        "\n",
        "\n",
        "\n"
      ],
      "metadata": {
        "id": "wi5kWnUQ84Z3"
      }
    },
    {
      "cell_type": "code",
      "source": [
        "df['release_year'].value_counts()"
      ],
      "metadata": {
        "colab": {
          "base_uri": "https://localhost:8080/"
        },
        "id": "2p6nSVXH4UVf",
        "outputId": "20922dd6-ae3f-4b83-b8cd-6c0de1421cba"
      },
      "execution_count": null,
      "outputs": [
        {
          "output_type": "execute_result",
          "data": {
            "text/plain": [
              "2018    24439\n",
              "2019    21883\n",
              "2017    20513\n",
              "2020    19697\n",
              "2016    18460\n",
              "        ...  \n",
              "1947        8\n",
              "1946        6\n",
              "1942        6\n",
              "1943        5\n",
              "1925        1\n",
              "Name: release_year, Length: 74, dtype: int64"
            ]
          },
          "metadata": {},
          "execution_count": 311
        }
      ]
    },
    {
      "cell_type": "markdown",
      "source": [
        "**Inference G :** Here, the audience has a preference for **newer content**.\n",
        "\n",
        "\n",
        "\n",
        "\n",
        "\n",
        "\n"
      ],
      "metadata": {
        "id": "UfrepR3w89B8"
      }
    },
    {
      "cell_type": "code",
      "source": [
        "df['rating'].value_counts()"
      ],
      "metadata": {
        "colab": {
          "base_uri": "https://localhost:8080/"
        },
        "id": "fie6_9Z64q1K",
        "outputId": "02f87441-ed00-4520-9779-5243e65dbeeb"
      },
      "execution_count": null,
      "outputs": [
        {
          "output_type": "execute_result",
          "data": {
            "text/plain": [
              "TV-MA       73811\n",
              "TV-14       43879\n",
              "R           25859\n",
              "PG-13       16246\n",
              "TV-PG       14913\n",
              "PG          10919\n",
              "TV-Y7        6294\n",
              "TV-Y         3664\n",
              "TV-G         2779\n",
              "NR           1543\n",
              "G            1530\n",
              "NC-17         149\n",
              "TV-Y7-FV       86\n",
              "UR             86\n",
              "Name: rating, dtype: int64"
            ]
          },
          "metadata": {},
          "execution_count": 312
        }
      ]
    },
    {
      "cell_type": "markdown",
      "source": [
        "**Inference H :** The highest number of entries in our dataset, totaling **73,811**, corresponds to the **TV-MA** rating, closely followed by **TV-14** at **43,879**. These two rating types are the most preferred among the audience.\n",
        "\n",
        "\n",
        "\n",
        "\n",
        "\n",
        "\n"
      ],
      "metadata": {
        "id": "pBRbiuxw-NpL"
      }
    },
    {
      "cell_type": "code",
      "source": [
        "df['listed_in'].value_counts()"
      ],
      "metadata": {
        "colab": {
          "base_uri": "https://localhost:8080/"
        },
        "id": "POokn3cP4-6j",
        "outputId": "9051179b-8c7c-434f-f51c-bbcafb3eedc5"
      },
      "execution_count": null,
      "outputs": [
        {
          "output_type": "execute_result",
          "data": {
            "text/plain": [
              "Dramas                          29772\n",
              "International Movies            28216\n",
              "Comedies                        20829\n",
              "International TV Shows          12815\n",
              "Action & Adventure              12216\n",
              "Independent Movies               9818\n",
              "Children & Family Movies         9771\n",
              "TV Dramas                        8933\n",
              "Thrillers                        7098\n",
              "Romantic Movies                  6412\n",
              "TV Comedies                      4907\n",
              "Crime TV Shows                   4715\n",
              "Horror Movies                    4571\n",
              "Kids' TV                         4555\n",
              "Sci-Fi & Fantasy                 4037\n",
              "Music & Musicals                 3077\n",
              "Romantic TV Shows                3049\n",
              "Documentaries                    2409\n",
              "TV Action & Adventure            2278\n",
              "Anime Series                     2273\n",
              "Spanish-Language TV Shows        2118\n",
              "British TV Shows                 1799\n",
              "Sports Movies                    1531\n",
              "Classic Movies                   1443\n",
              "TV Mysteries                     1281\n",
              "Korean TV Shows                  1122\n",
              "Cult Movies                      1077\n",
              "Anime Features                   1045\n",
              "TV Sci-Fi & Fantasy              1035\n",
              "TV Horror                         941\n",
              "Docuseries                        844\n",
              "LGBTQ Movies                      838\n",
              "TV Thrillers                      768\n",
              "Teen TV Shows                     742\n",
              "Reality TV                        735\n",
              "Faith & Spirituality              719\n",
              "Stand-Up Comedy                   540\n",
              "Movies                            407\n",
              "TV Shows                          337\n",
              "Stand-Up Comedy & Talk Shows      268\n",
              "Classic & Cult TV                 260\n",
              "Science & Nature TV               157\n",
              "Name: listed_in, dtype: int64"
            ]
          },
          "metadata": {},
          "execution_count": 313
        }
      ]
    },
    {
      "cell_type": "markdown",
      "source": [
        "**Inference I :** The highest number of entries in our dataset, totaling **29,772**, corresponds to the \"**Dramas**\" category, followed by \"**International Movies**\" at **28,216**.\n",
        "\n",
        "\n",
        "\n",
        "\n",
        "\n",
        "\n",
        "\n",
        "\n",
        "\n",
        "\n",
        "\n",
        "\n"
      ],
      "metadata": {
        "id": "8G1kqUzl_WDM"
      }
    },
    {
      "cell_type": "markdown",
      "source": [
        "# Non-Graphical Analysis"
      ],
      "metadata": {
        "id": "7HEku8AxAE-G"
      }
    },
    {
      "cell_type": "code",
      "source": [
        "df.info()"
      ],
      "metadata": {
        "colab": {
          "base_uri": "https://localhost:8080/"
        },
        "id": "3k0RGGGp5MiY",
        "outputId": "a2d56887-156c-41e9-a976-5e504ab68d7f"
      },
      "execution_count": null,
      "outputs": [
        {
          "output_type": "stream",
          "name": "stdout",
          "text": [
            "<class 'pandas.core.frame.DataFrame'>\n",
            "RangeIndex: 201758 entries, 0 to 201757\n",
            "Data columns (total 11 columns):\n",
            " #   Column        Non-Null Count   Dtype \n",
            "---  ------        --------------   ----- \n",
            " 0   type          201758 non-null  object\n",
            " 1   title         201758 non-null  object\n",
            " 2   director      201758 non-null  object\n",
            " 3   cast          201758 non-null  object\n",
            " 4   country       201758 non-null  object\n",
            " 5   date_added    201758 non-null  object\n",
            " 6   release_year  201758 non-null  object\n",
            " 7   rating        201758 non-null  object\n",
            " 8   duration      201758 non-null  object\n",
            " 9   listed_in     201758 non-null  object\n",
            " 10  description   201758 non-null  object\n",
            "dtypes: object(11)\n",
            "memory usage: 16.9+ MB\n"
          ]
        }
      ]
    },
    {
      "cell_type": "code",
      "source": [
        "# Statistical Summary After Data Cleaning\n",
        "df.describe()"
      ],
      "metadata": {
        "colab": {
          "base_uri": "https://localhost:8080/",
          "height": 264
        },
        "id": "SlYmZtSfAQ42",
        "outputId": "c94ee569-f08a-4e16-b5b7-1e46e3b57237"
      },
      "execution_count": null,
      "outputs": [
        {
          "output_type": "execute_result",
          "data": {
            "text/plain": [
              "          type                        title   director       cast  \\\n",
              "count   201758                       201758     201758     201758   \n",
              "unique       2                         8789       4992      36393   \n",
              "top      Movie  Kahlil Gibran's The Prophet  Anonymous  Anonymous   \n",
              "freq    145826                          700      50425       2149   \n",
              "\n",
              "              country  date_added release_year  rating  duration listed_in  \\\n",
              "count          201758      201758       201758  201758    201758    201758   \n",
              "unique            124        1713           74      14       220        42   \n",
              "top     United States  2020-01-01         2018   TV-MA  1 Season    Dramas   \n",
              "freq            59238        3748        24439   73811     34977     29772   \n",
              "\n",
              "                                              description  \n",
              "count                                              201758  \n",
              "unique                                               8758  \n",
              "top     A troubled young girl and her mother find sola...  \n",
              "freq                                                  700  "
            ],
            "text/html": [
              "\n",
              "  <div id=\"df-5571c77b-08b1-484f-87cf-57c3b179b2a7\" class=\"colab-df-container\">\n",
              "    <div>\n",
              "<style scoped>\n",
              "    .dataframe tbody tr th:only-of-type {\n",
              "        vertical-align: middle;\n",
              "    }\n",
              "\n",
              "    .dataframe tbody tr th {\n",
              "        vertical-align: top;\n",
              "    }\n",
              "\n",
              "    .dataframe thead th {\n",
              "        text-align: right;\n",
              "    }\n",
              "</style>\n",
              "<table border=\"1\" class=\"dataframe\">\n",
              "  <thead>\n",
              "    <tr style=\"text-align: right;\">\n",
              "      <th></th>\n",
              "      <th>type</th>\n",
              "      <th>title</th>\n",
              "      <th>director</th>\n",
              "      <th>cast</th>\n",
              "      <th>country</th>\n",
              "      <th>date_added</th>\n",
              "      <th>release_year</th>\n",
              "      <th>rating</th>\n",
              "      <th>duration</th>\n",
              "      <th>listed_in</th>\n",
              "      <th>description</th>\n",
              "    </tr>\n",
              "  </thead>\n",
              "  <tbody>\n",
              "    <tr>\n",
              "      <th>count</th>\n",
              "      <td>201758</td>\n",
              "      <td>201758</td>\n",
              "      <td>201758</td>\n",
              "      <td>201758</td>\n",
              "      <td>201758</td>\n",
              "      <td>201758</td>\n",
              "      <td>201758</td>\n",
              "      <td>201758</td>\n",
              "      <td>201758</td>\n",
              "      <td>201758</td>\n",
              "      <td>201758</td>\n",
              "    </tr>\n",
              "    <tr>\n",
              "      <th>unique</th>\n",
              "      <td>2</td>\n",
              "      <td>8789</td>\n",
              "      <td>4992</td>\n",
              "      <td>36393</td>\n",
              "      <td>124</td>\n",
              "      <td>1713</td>\n",
              "      <td>74</td>\n",
              "      <td>14</td>\n",
              "      <td>220</td>\n",
              "      <td>42</td>\n",
              "      <td>8758</td>\n",
              "    </tr>\n",
              "    <tr>\n",
              "      <th>top</th>\n",
              "      <td>Movie</td>\n",
              "      <td>Kahlil Gibran's The Prophet</td>\n",
              "      <td>Anonymous</td>\n",
              "      <td>Anonymous</td>\n",
              "      <td>United States</td>\n",
              "      <td>2020-01-01</td>\n",
              "      <td>2018</td>\n",
              "      <td>TV-MA</td>\n",
              "      <td>1 Season</td>\n",
              "      <td>Dramas</td>\n",
              "      <td>A troubled young girl and her mother find sola...</td>\n",
              "    </tr>\n",
              "    <tr>\n",
              "      <th>freq</th>\n",
              "      <td>145826</td>\n",
              "      <td>700</td>\n",
              "      <td>50425</td>\n",
              "      <td>2149</td>\n",
              "      <td>59238</td>\n",
              "      <td>3748</td>\n",
              "      <td>24439</td>\n",
              "      <td>73811</td>\n",
              "      <td>34977</td>\n",
              "      <td>29772</td>\n",
              "      <td>700</td>\n",
              "    </tr>\n",
              "  </tbody>\n",
              "</table>\n",
              "</div>\n",
              "    <div class=\"colab-df-buttons\">\n",
              "\n",
              "  <div class=\"colab-df-container\">\n",
              "    <button class=\"colab-df-convert\" onclick=\"convertToInteractive('df-5571c77b-08b1-484f-87cf-57c3b179b2a7')\"\n",
              "            title=\"Convert this dataframe to an interactive table.\"\n",
              "            style=\"display:none;\">\n",
              "\n",
              "  <svg xmlns=\"http://www.w3.org/2000/svg\" height=\"24px\" viewBox=\"0 -960 960 960\">\n",
              "    <path d=\"M120-120v-720h720v720H120Zm60-500h600v-160H180v160Zm220 220h160v-160H400v160Zm0 220h160v-160H400v160ZM180-400h160v-160H180v160Zm440 0h160v-160H620v160ZM180-180h160v-160H180v160Zm440 0h160v-160H620v160Z\"/>\n",
              "  </svg>\n",
              "    </button>\n",
              "\n",
              "  <style>\n",
              "    .colab-df-container {\n",
              "      display:flex;\n",
              "      gap: 12px;\n",
              "    }\n",
              "\n",
              "    .colab-df-convert {\n",
              "      background-color: #E8F0FE;\n",
              "      border: none;\n",
              "      border-radius: 50%;\n",
              "      cursor: pointer;\n",
              "      display: none;\n",
              "      fill: #1967D2;\n",
              "      height: 32px;\n",
              "      padding: 0 0 0 0;\n",
              "      width: 32px;\n",
              "    }\n",
              "\n",
              "    .colab-df-convert:hover {\n",
              "      background-color: #E2EBFA;\n",
              "      box-shadow: 0px 1px 2px rgba(60, 64, 67, 0.3), 0px 1px 3px 1px rgba(60, 64, 67, 0.15);\n",
              "      fill: #174EA6;\n",
              "    }\n",
              "\n",
              "    .colab-df-buttons div {\n",
              "      margin-bottom: 4px;\n",
              "    }\n",
              "\n",
              "    [theme=dark] .colab-df-convert {\n",
              "      background-color: #3B4455;\n",
              "      fill: #D2E3FC;\n",
              "    }\n",
              "\n",
              "    [theme=dark] .colab-df-convert:hover {\n",
              "      background-color: #434B5C;\n",
              "      box-shadow: 0px 1px 3px 1px rgba(0, 0, 0, 0.15);\n",
              "      filter: drop-shadow(0px 1px 2px rgba(0, 0, 0, 0.3));\n",
              "      fill: #FFFFFF;\n",
              "    }\n",
              "  </style>\n",
              "\n",
              "    <script>\n",
              "      const buttonEl =\n",
              "        document.querySelector('#df-5571c77b-08b1-484f-87cf-57c3b179b2a7 button.colab-df-convert');\n",
              "      buttonEl.style.display =\n",
              "        google.colab.kernel.accessAllowed ? 'block' : 'none';\n",
              "\n",
              "      async function convertToInteractive(key) {\n",
              "        const element = document.querySelector('#df-5571c77b-08b1-484f-87cf-57c3b179b2a7');\n",
              "        const dataTable =\n",
              "          await google.colab.kernel.invokeFunction('convertToInteractive',\n",
              "                                                    [key], {});\n",
              "        if (!dataTable) return;\n",
              "\n",
              "        const docLinkHtml = 'Like what you see? Visit the ' +\n",
              "          '<a target=\"_blank\" href=https://colab.research.google.com/notebooks/data_table.ipynb>data table notebook</a>'\n",
              "          + ' to learn more about interactive tables.';\n",
              "        element.innerHTML = '';\n",
              "        dataTable['output_type'] = 'display_data';\n",
              "        await google.colab.output.renderOutput(dataTable, element);\n",
              "        const docLink = document.createElement('div');\n",
              "        docLink.innerHTML = docLinkHtml;\n",
              "        element.appendChild(docLink);\n",
              "      }\n",
              "    </script>\n",
              "  </div>\n",
              "\n",
              "\n",
              "<div id=\"df-96e8b8f4-0f21-4881-8668-bd25c6f37618\">\n",
              "  <button class=\"colab-df-quickchart\" onclick=\"quickchart('df-96e8b8f4-0f21-4881-8668-bd25c6f37618')\"\n",
              "            title=\"Suggest charts\"\n",
              "            style=\"display:none;\">\n",
              "\n",
              "<svg xmlns=\"http://www.w3.org/2000/svg\" height=\"24px\"viewBox=\"0 0 24 24\"\n",
              "     width=\"24px\">\n",
              "    <g>\n",
              "        <path d=\"M19 3H5c-1.1 0-2 .9-2 2v14c0 1.1.9 2 2 2h14c1.1 0 2-.9 2-2V5c0-1.1-.9-2-2-2zM9 17H7v-7h2v7zm4 0h-2V7h2v10zm4 0h-2v-4h2v4z\"/>\n",
              "    </g>\n",
              "</svg>\n",
              "  </button>\n",
              "\n",
              "<style>\n",
              "  .colab-df-quickchart {\n",
              "      --bg-color: #E8F0FE;\n",
              "      --fill-color: #1967D2;\n",
              "      --hover-bg-color: #E2EBFA;\n",
              "      --hover-fill-color: #174EA6;\n",
              "      --disabled-fill-color: #AAA;\n",
              "      --disabled-bg-color: #DDD;\n",
              "  }\n",
              "\n",
              "  [theme=dark] .colab-df-quickchart {\n",
              "      --bg-color: #3B4455;\n",
              "      --fill-color: #D2E3FC;\n",
              "      --hover-bg-color: #434B5C;\n",
              "      --hover-fill-color: #FFFFFF;\n",
              "      --disabled-bg-color: #3B4455;\n",
              "      --disabled-fill-color: #666;\n",
              "  }\n",
              "\n",
              "  .colab-df-quickchart {\n",
              "    background-color: var(--bg-color);\n",
              "    border: none;\n",
              "    border-radius: 50%;\n",
              "    cursor: pointer;\n",
              "    display: none;\n",
              "    fill: var(--fill-color);\n",
              "    height: 32px;\n",
              "    padding: 0;\n",
              "    width: 32px;\n",
              "  }\n",
              "\n",
              "  .colab-df-quickchart:hover {\n",
              "    background-color: var(--hover-bg-color);\n",
              "    box-shadow: 0 1px 2px rgba(60, 64, 67, 0.3), 0 1px 3px 1px rgba(60, 64, 67, 0.15);\n",
              "    fill: var(--button-hover-fill-color);\n",
              "  }\n",
              "\n",
              "  .colab-df-quickchart-complete:disabled,\n",
              "  .colab-df-quickchart-complete:disabled:hover {\n",
              "    background-color: var(--disabled-bg-color);\n",
              "    fill: var(--disabled-fill-color);\n",
              "    box-shadow: none;\n",
              "  }\n",
              "\n",
              "  .colab-df-spinner {\n",
              "    border: 2px solid var(--fill-color);\n",
              "    border-color: transparent;\n",
              "    border-bottom-color: var(--fill-color);\n",
              "    animation:\n",
              "      spin 1s steps(1) infinite;\n",
              "  }\n",
              "\n",
              "  @keyframes spin {\n",
              "    0% {\n",
              "      border-color: transparent;\n",
              "      border-bottom-color: var(--fill-color);\n",
              "      border-left-color: var(--fill-color);\n",
              "    }\n",
              "    20% {\n",
              "      border-color: transparent;\n",
              "      border-left-color: var(--fill-color);\n",
              "      border-top-color: var(--fill-color);\n",
              "    }\n",
              "    30% {\n",
              "      border-color: transparent;\n",
              "      border-left-color: var(--fill-color);\n",
              "      border-top-color: var(--fill-color);\n",
              "      border-right-color: var(--fill-color);\n",
              "    }\n",
              "    40% {\n",
              "      border-color: transparent;\n",
              "      border-right-color: var(--fill-color);\n",
              "      border-top-color: var(--fill-color);\n",
              "    }\n",
              "    60% {\n",
              "      border-color: transparent;\n",
              "      border-right-color: var(--fill-color);\n",
              "    }\n",
              "    80% {\n",
              "      border-color: transparent;\n",
              "      border-right-color: var(--fill-color);\n",
              "      border-bottom-color: var(--fill-color);\n",
              "    }\n",
              "    90% {\n",
              "      border-color: transparent;\n",
              "      border-bottom-color: var(--fill-color);\n",
              "    }\n",
              "  }\n",
              "</style>\n",
              "\n",
              "  <script>\n",
              "    async function quickchart(key) {\n",
              "      const quickchartButtonEl =\n",
              "        document.querySelector('#' + key + ' button');\n",
              "      quickchartButtonEl.disabled = true;  // To prevent multiple clicks.\n",
              "      quickchartButtonEl.classList.add('colab-df-spinner');\n",
              "      try {\n",
              "        const charts = await google.colab.kernel.invokeFunction(\n",
              "            'suggestCharts', [key], {});\n",
              "      } catch (error) {\n",
              "        console.error('Error during call to suggestCharts:', error);\n",
              "      }\n",
              "      quickchartButtonEl.classList.remove('colab-df-spinner');\n",
              "      quickchartButtonEl.classList.add('colab-df-quickchart-complete');\n",
              "    }\n",
              "    (() => {\n",
              "      let quickchartButtonEl =\n",
              "        document.querySelector('#df-96e8b8f4-0f21-4881-8668-bd25c6f37618 button');\n",
              "      quickchartButtonEl.style.display =\n",
              "        google.colab.kernel.accessAllowed ? 'block' : 'none';\n",
              "    })();\n",
              "  </script>\n",
              "</div>\n",
              "\n",
              "    </div>\n",
              "  </div>\n"
            ]
          },
          "metadata": {},
          "execution_count": 315
        }
      ]
    },
    {
      "cell_type": "code",
      "source": [
        "df.T.apply(lambda x: x.isnull().sum(), axis = 1)"
      ],
      "metadata": {
        "colab": {
          "base_uri": "https://localhost:8080/"
        },
        "id": "exMB8zb5B_sn",
        "outputId": "ca59ac12-15df-44d0-8842-32c24378fa8e"
      },
      "execution_count": null,
      "outputs": [
        {
          "output_type": "execute_result",
          "data": {
            "text/plain": [
              "type            0\n",
              "title           0\n",
              "director        0\n",
              "cast            0\n",
              "country         0\n",
              "date_added      0\n",
              "release_year    0\n",
              "rating          0\n",
              "duration        0\n",
              "listed_in       0\n",
              "description     0\n",
              "dtype: int64"
            ]
          },
          "metadata": {},
          "execution_count": 316
        }
      ]
    },
    {
      "cell_type": "code",
      "source": [
        "# checking the unquie types\n",
        "df['type'].unique()"
      ],
      "metadata": {
        "colab": {
          "base_uri": "https://localhost:8080/"
        },
        "id": "W0o43owfAYpQ",
        "outputId": "bb1e4ce4-c89a-435b-ad67-2782bbfa830a"
      },
      "execution_count": null,
      "outputs": [
        {
          "output_type": "execute_result",
          "data": {
            "text/plain": [
              "array(['Movie', 'TV Show'], dtype=object)"
            ]
          },
          "metadata": {},
          "execution_count": 317
        }
      ]
    },
    {
      "cell_type": "code",
      "source": [
        "#checking the number of unquie types\n",
        "df['type'].nunique()"
      ],
      "metadata": {
        "colab": {
          "base_uri": "https://localhost:8080/"
        },
        "id": "pl3wTu-iA6ke",
        "outputId": "49fa381b-5e82-4ef7-81b5-9325a1f38ee2"
      },
      "execution_count": null,
      "outputs": [
        {
          "output_type": "execute_result",
          "data": {
            "text/plain": [
              "2"
            ]
          },
          "metadata": {},
          "execution_count": 318
        }
      ]
    },
    {
      "cell_type": "code",
      "source": [
        "#checking the unquie countries\n",
        "df['country'].unique()"
      ],
      "metadata": {
        "colab": {
          "base_uri": "https://localhost:8080/"
        },
        "id": "2N5DDS5yAsXo",
        "outputId": "c2e0d9bc-3369-4df3-d1fd-c06c187e9545"
      },
      "execution_count": null,
      "outputs": [
        {
          "output_type": "execute_result",
          "data": {
            "text/plain": [
              "array(['United States', 'South Africa', 'Not Available', 'India', 'Ghana',\n",
              "       'Burkina Faso', 'United Kingdom', 'Germany', 'Ethiopia',\n",
              "       'Czech Republic', 'Mexico', 'Turkey', 'Australia', 'France',\n",
              "       'Finland', 'China', 'Canada', 'Japan', 'Nigeria', 'Spain',\n",
              "       'Belgium', 'South Korea', 'Singapore', 'Italy', 'Romania',\n",
              "       'Argentina', 'Venezuela', 'Hong Kong', 'Russia', '', 'Ireland',\n",
              "       'Nepal', 'New Zealand', 'Brazil', 'Greece', 'Jordan', 'Colombia',\n",
              "       'Switzerland', 'Israel', 'Taiwan', 'Bulgaria', 'Algeria', 'Poland',\n",
              "       'Saudi Arabia', 'Thailand', 'Indonesia', 'Egypt', 'Denmark',\n",
              "       'Kuwait', 'Netherlands', 'Malaysia', 'Vietnam', 'Hungary',\n",
              "       'Sweden', 'Lebanon', 'Syria', 'Philippines', 'Iceland',\n",
              "       'United Arab Emirates', 'Norway', 'Qatar', 'Mauritius', 'Austria',\n",
              "       'Cameroon', 'Palestine', 'Uruguay', 'Kenya', 'Chile', 'Luxembourg',\n",
              "       'Cambodia', 'Bangladesh', 'Portugal', 'Cayman Islands', 'Senegal',\n",
              "       'Serbia', 'Malta', 'Namibia', 'Angola', 'Peru', 'Mozambique',\n",
              "       'Belarus', 'Zimbabwe', 'Puerto Rico', 'Pakistan', 'Cyprus',\n",
              "       'Guatemala', 'Iraq', 'Malawi', 'Paraguay', 'Croatia', 'Iran',\n",
              "       'West Germany', 'Albania', 'Georgia', 'Soviet Union', 'Morocco',\n",
              "       'Slovakia', 'Ukraine', 'Bermuda', 'Ecuador', 'Armenia', 'Mongolia',\n",
              "       'Bahamas', 'Sri Lanka', 'Latvia', 'Liechtenstein', 'Cuba',\n",
              "       'Nicaragua', 'Slovenia', 'Dominican Republic', 'Samoa',\n",
              "       'Azerbaijan', 'Botswana', 'Vatican City', 'Jamaica', 'Kazakhstan',\n",
              "       'Lithuania', 'Afghanistan', 'Somalia', 'Sudan', 'Panama', 'Uganda',\n",
              "       'East Germany', 'Montenegro'], dtype=object)"
            ]
          },
          "metadata": {},
          "execution_count": 319
        }
      ]
    },
    {
      "cell_type": "code",
      "source": [
        "#checking the number of unquie countries\n",
        "df['country'].nunique()"
      ],
      "metadata": {
        "colab": {
          "base_uri": "https://localhost:8080/"
        },
        "id": "zCoGHACsA2vb",
        "outputId": "407be4b2-bcc5-451a-da67-17311a7a9bf6"
      },
      "execution_count": null,
      "outputs": [
        {
          "output_type": "execute_result",
          "data": {
            "text/plain": [
              "124"
            ]
          },
          "metadata": {},
          "execution_count": 320
        }
      ]
    },
    {
      "cell_type": "markdown",
      "source": [
        "The dataset contains information from **749 unique** countries.\n",
        "\n",
        "\n",
        "\n",
        "\n",
        "\n",
        "\n"
      ],
      "metadata": {
        "id": "WaD57fTUBCf9"
      }
    },
    {
      "cell_type": "code",
      "source": [
        "df.duplicated().sum()"
      ],
      "metadata": {
        "colab": {
          "base_uri": "https://localhost:8080/"
        },
        "id": "lRpwSaMDA_xk",
        "outputId": "0323be17-8a62-4569-f35f-11876b02341d"
      },
      "execution_count": null,
      "outputs": [
        {
          "output_type": "execute_result",
          "data": {
            "text/plain": [
              "0"
            ]
          },
          "metadata": {},
          "execution_count": 321
        }
      ]
    },
    {
      "cell_type": "markdown",
      "source": [
        "There is no duplicated data in this dataset."
      ],
      "metadata": {
        "id": "Y_yltb0eDgFU"
      }
    },
    {
      "cell_type": "markdown",
      "source": [
        "#**Data Vizualization**\n"
      ],
      "metadata": {
        "id": "e5ErVnsy_J2K"
      }
    },
    {
      "cell_type": "markdown",
      "source": [
        "#**Visual Analysis - Univariate, Bivariate after pre-processing of the data**\n",
        "\n"
      ],
      "metadata": {
        "id": "fEkpBgOg9iVG"
      }
    },
    {
      "cell_type": "markdown",
      "source": [
        "**Univariate** - **Content Wise Distribution**"
      ],
      "metadata": {
        "id": "fGGXC8Nl-2tg"
      }
    },
    {
      "cell_type": "code",
      "source": [
        "plt.figure(figsize =(10,5))\n",
        "plt.title(\"Content wise Distribution on Netfliex either Movies or TV Shows\")\n",
        "g = plt.pie(df.type.value_counts(), explode =(0.025,0.025),labels =df.type.value_counts().index, autopct = '%1.1f%%',startangle =90)\n",
        "plt.show()"
      ],
      "metadata": {
        "colab": {
          "base_uri": "https://localhost:8080/",
          "height": 444
        },
        "id": "wnqjGTXFo1Q9",
        "outputId": "6440a5c0-a884-40c6-ee55-28da1fbf48fb"
      },
      "execution_count": null,
      "outputs": [
        {
          "output_type": "display_data",
          "data": {
            "text/plain": [
              "<Figure size 1000x500 with 1 Axes>"
            ],
            "image/png": "[encoded data removed]"
          },
          "metadata": {}
        }
      ]
    },
    {
      "cell_type": "markdown",
      "source": [
        "\n",
        "**Inference J :** Here the observation is clear and insightful. The pie chart effectively illustrates that the majority of content on Netflix is comprised of **movies**, accounting for **72.3%**, while **TV shows** represent **27.7%**. This considerable difference, with movies being **2.6 times** more prevalent than TV shows, suggests a preference among viewers for movies over TV shows on the platform."
      ],
      "metadata": {
        "id": "ZM4MeDHU2CA0"
      }
    },
    {
      "cell_type": "code",
      "source": [
        "# Now again converting 'release_year' to 'int' because we will be using it as a continuous variables\n",
        "df['release_year'] = df['release_year'].astype(int)"
      ],
      "metadata": {
        "id": "jqK5ZL0PIBXJ"
      },
      "execution_count": null,
      "outputs": []
    },
    {
      "cell_type": "code",
      "source": [
        "# Range of an attribute\n",
        "df['release_year'].min()"
      ],
      "metadata": {
        "colab": {
          "base_uri": "https://localhost:8080/"
        },
        "id": "0yHpAtamWcME",
        "outputId": "964416a2-7385-4cc2-b534-2035f89d9082"
      },
      "execution_count": null,
      "outputs": [
        {
          "output_type": "execute_result",
          "data": {
            "text/plain": [
              "1925"
            ]
          },
          "metadata": {},
          "execution_count": 324
        }
      ]
    },
    {
      "cell_type": "code",
      "source": [
        "df['release_year'].max()"
      ],
      "metadata": {
        "colab": {
          "base_uri": "https://localhost:8080/"
        },
        "id": "NpiYKDlvVPKN",
        "outputId": "530a2b9f-698c-41f8-b23e-f9209686ecf9"
      },
      "execution_count": null,
      "outputs": [
        {
          "output_type": "execute_result",
          "data": {
            "text/plain": [
              "2021"
            ]
          },
          "metadata": {},
          "execution_count": 325
        }
      ]
    },
    {
      "cell_type": "code",
      "source": [
        "df['release_year'].unique()"
      ],
      "metadata": {
        "colab": {
          "base_uri": "https://localhost:8080/"
        },
        "id": "0RxENFMiVfgC",
        "outputId": "7dad9bc0-2593-4ed8-fa48-28f5b98fc777"
      },
      "execution_count": null,
      "outputs": [
        {
          "output_type": "execute_result",
          "data": {
            "text/plain": [
              "array([2020, 2021, 1993, 2018, 1996, 1998, 1997, 2010, 2013, 2017, 1975,\n",
              "       1978, 1983, 1987, 2012, 2001, 2014, 2002, 2003, 2004, 2011, 2008,\n",
              "       2009, 2007, 2005, 2006, 1994, 2015, 2019, 2016, 1982, 1989, 1990,\n",
              "       1991, 1999, 1986, 1992, 1984, 1980, 1961, 2000, 1995, 1985, 1976,\n",
              "       1959, 1988, 1981, 1972, 1964, 1945, 1954, 1979, 1958, 1956, 1963,\n",
              "       1970, 1973, 1925, 1974, 1960, 1966, 1971, 1962, 1969, 1977, 1967,\n",
              "       1968, 1965, 1946, 1942, 1955, 1944, 1947, 1943])"
            ]
          },
          "metadata": {},
          "execution_count": 326
        }
      ]
    },
    {
      "cell_type": "code",
      "source": [
        "df['release_year'].nunique()"
      ],
      "metadata": {
        "colab": {
          "base_uri": "https://localhost:8080/"
        },
        "id": "_DvQsxXOXPwB",
        "outputId": "edb0bc74-a6ad-48c1-ee94-588e68a742ac"
      },
      "execution_count": null,
      "outputs": [
        {
          "output_type": "execute_result",
          "data": {
            "text/plain": [
              "74"
            ]
          },
          "metadata": {},
          "execution_count": 327
        }
      ]
    },
    {
      "cell_type": "code",
      "source": [
        "sns.histplot(data = df, x =\"release_year\", hue =\"type\", bins=20)\n",
        "plt.show()"
      ],
      "metadata": {
        "colab": {
          "base_uri": "https://localhost:8080/",
          "height": 450
        },
        "id": "AmDq3ug0XVwL",
        "outputId": "8251136a-2efb-4345-a61c-50582c69b8a7"
      },
      "execution_count": null,
      "outputs": [
        {
          "output_type": "display_data",
          "data": {
            "text/plain": [
              "<Figure size 640x480 with 1 Axes>"
            ],
            "image/png": "[encoded data removed]"
          },
          "metadata": {}
        }
      ]
    },
    {
      "cell_type": "markdown",
      "source": [
        "\n",
        "**Inference K :** The historical analysis of the distribution of movies and TV shows on Netflix, as depicted in the hist plot, reveals a notable pattern. During the initial period, notably before 1980, there was a limited availability of movies and TV shows on the platform. However, a significant and consistent growth trend is observed since 1980. This surge aligns with the global increase in internet usage during that era. The rising popularity of internet access worldwide likely contributed to the expansion of content offerings on Netflix, showcasing a correlation between technological advancements and the platform's content distribution."
      ],
      "metadata": {
        "id": "B20qSTc2_tTQ"
      }
    },
    {
      "cell_type": "code",
      "source": [
        "movie_ih = df.loc[(df[\"type\"] == \"Movie\") & (df[\"release_year\"] > 1992)]\n",
        "sns.histplot(data = movie_ih, x=\"release_year\", hue=\"type\", bins=20)"
      ],
      "metadata": {
        "colab": {
          "base_uri": "https://localhost:8080/",
          "height": 467
        },
        "id": "RQgGj31r-6G6",
        "outputId": "b5fb85c3-592a-4949-aa02-429c0934ee6b"
      },
      "execution_count": null,
      "outputs": [
        {
          "output_type": "execute_result",
          "data": {
            "text/plain": [
              "<Axes: xlabel='release_year', ylabel='Count'>"
            ]
          },
          "metadata": {},
          "execution_count": 329
        },
        {
          "output_type": "display_data",
          "data": {
            "text/plain": [
              "<Figure size 640x480 with 1 Axes>"
            ],
            "image/png": "[encoded data removed]"
          },
          "metadata": {}
        }
      ]
    },
    {
      "cell_type": "markdown",
      "source": [
        "\n",
        "**Inference L :** Upon filtering for movies and focusing on releases from 1992 onwards, a discernible trend emerges in the distribution of movies on Netflix. The data indicates a gradual increase in the number of movies available on the platform over the years, reaching a peak in 2018. However, a subsequent decline is observed, suggesting a potential decrease in the distribution of movies on Netflix in the post-2018 period.\n",
        "\n",
        "This pattern prompts further exploration into the factors influencing the observed trend, such as changes in content acquisition strategies, shifts in viewer preferences, or alterations in the overall content landscape. Analyzing these factors could provide deeper insights into the dynamics of movie distribution on Netflix during the specified period."
      ],
      "metadata": {
        "id": "ZmjB6kXyB7e9"
      }
    },
    {
      "cell_type": "code",
      "source": [
        "df['duration'].unique()"
      ],
      "metadata": {
        "colab": {
          "base_uri": "https://localhost:8080/"
        },
        "id": "-G7rHjnMbKTn",
        "outputId": "4d0a273d-9b07-415e-c823-a30c3fb40555"
      },
      "execution_count": null,
      "outputs": [
        {
          "output_type": "execute_result",
          "data": {
            "text/plain": [
              "array(['90 min', '2 Seasons', '1 Season', '91 min', '125 min',\n",
              "       '9 Seasons', '104 min', '127 min', '4 Seasons', '67 min', '94 min',\n",
              "       '5 Seasons', '161 min', '61 min', '166 min', '147 min', '103 min',\n",
              "       '97 min', '106 min', '111 min', '3 Seasons', '110 min', '105 min',\n",
              "       '96 min', '124 min', '116 min', '98 min', '23 min', '115 min',\n",
              "       '122 min', '99 min', '88 min', '100 min', '6 Seasons', '102 min',\n",
              "       '93 min', '95 min', '85 min', '83 min', '113 min', '13 min',\n",
              "       '182 min', '48 min', '145 min', '87 min', '92 min', '80 min',\n",
              "       '117 min', '128 min', '119 min', '143 min', '114 min', '118 min',\n",
              "       '108 min', '63 min', '121 min', '142 min', '154 min', '120 min',\n",
              "       '82 min', '109 min', '101 min', '86 min', '229 min', '76 min',\n",
              "       '89 min', '156 min', '112 min', '107 min', '129 min', '135 min',\n",
              "       '136 min', '165 min', '150 min', '133 min', '70 min', '84 min',\n",
              "       '140 min', '78 min', '7 Seasons', '64 min', '59 min', '139 min',\n",
              "       '69 min', '148 min', '189 min', '141 min', '130 min', '138 min',\n",
              "       '81 min', '132 min', '10 Seasons', '123 min', '65 min', '68 min',\n",
              "       '66 min', '62 min', '74 min', '131 min', '39 min', '46 min',\n",
              "       '38 min', '8 Seasons', '17 Seasons', '126 min', '155 min',\n",
              "       '159 min', '137 min', '12 min', '273 min', '36 min', '34 min',\n",
              "       '77 min', '60 min', '49 min', '58 min', '72 min', '204 min',\n",
              "       '212 min', '25 min', '73 min', '29 min', '47 min', '32 min',\n",
              "       '35 min', '71 min', '149 min', '33 min', '15 min', '54 min',\n",
              "       '224 min', '162 min', '37 min', '75 min', '79 min', '55 min',\n",
              "       '158 min', '164 min', '173 min', '181 min', '185 min', '21 min',\n",
              "       '24 min', '51 min', '151 min', '42 min', '22 min', '134 min',\n",
              "       '177 min', '13 Seasons', '52 min', '14 min', '53 min', '8 min',\n",
              "       '57 min', '28 min', '50 min', '9 min', '26 min', '45 min',\n",
              "       '171 min', '27 min', '44 min', '146 min', '20 min', '157 min',\n",
              "       '17 min', '203 min', '41 min', '30 min', '194 min', '15 Seasons',\n",
              "       '233 min', '237 min', '230 min', '195 min', '253 min', '152 min',\n",
              "       '190 min', '160 min', '208 min', '180 min', '144 min', '5 min',\n",
              "       '174 min', '170 min', '192 min', '209 min', '187 min', '172 min',\n",
              "       '16 min', '186 min', '11 min', '193 min', '176 min', '56 min',\n",
              "       '169 min', '40 min', '10 min', '3 min', '168 min', '312 min',\n",
              "       '153 min', '214 min', '31 min', '163 min', '19 min', '12 Seasons',\n",
              "       '179 min', '11 Seasons', '43 min', '200 min', '196 min', '167 min',\n",
              "       '178 min', '228 min', '18 min', '205 min', '201 min', '191 min'],\n",
              "      dtype=object)"
            ]
          },
          "metadata": {},
          "execution_count": 330
        }
      ]
    },
    {
      "cell_type": "code",
      "source": [
        "df[\"date_added\"]= pd.to_datetime(df[\"date_added\"])"
      ],
      "metadata": {
        "id": "-zF_oAnqbu2V"
      },
      "execution_count": null,
      "outputs": []
    },
    {
      "cell_type": "code",
      "source": [
        "df['date_added'].dt.month"
      ],
      "metadata": {
        "colab": {
          "base_uri": "https://localhost:8080/"
        },
        "id": "-wpNorzObaCt",
        "outputId": "4716bca5-8292-4e76-d323-ddd0a171fde4"
      },
      "execution_count": null,
      "outputs": [
        {
          "output_type": "execute_result",
          "data": {
            "text/plain": [
              "0         9\n",
              "1         9\n",
              "2         9\n",
              "3         9\n",
              "4         9\n",
              "         ..\n",
              "201753    3\n",
              "201754    3\n",
              "201755    3\n",
              "201756    3\n",
              "201757    3\n",
              "Name: date_added, Length: 201758, dtype: int64"
            ]
          },
          "metadata": {},
          "execution_count": 332
        }
      ]
    },
    {
      "cell_type": "code",
      "source": [
        "#Best Time to Launch a TV Show\n",
        "TV_shows = df.loc[df[\"type\"] == \"TV Show\"]"
      ],
      "metadata": {
        "id": "g8Y1jCIbb213"
      },
      "execution_count": null,
      "outputs": []
    },
    {
      "cell_type": "code",
      "source": [
        "sns.countplot(data = TV_shows, x = TV_shows[\"date_added\"].dt.month)\n",
        "plt.xlabel(\"Months in which TV Shows were Released\")\n",
        "plt.title(\"The Best time to release TV Shows\")\n",
        "plt.show()"
      ],
      "metadata": {
        "colab": {
          "base_uri": "https://localhost:8080/",
          "height": 472
        },
        "id": "RgH4ZDPncChl",
        "outputId": "903103e3-d526-43a4-8756-19ff6e6b66d0"
      },
      "execution_count": null,
      "outputs": [
        {
          "output_type": "display_data",
          "data": {
            "text/plain": [
              "<Figure size 640x480 with 1 Axes>"
            ],
            "image/png": "[encoded data removed]"
          },
          "metadata": {}
        }
      ]
    },
    {
      "cell_type": "markdown",
      "source": [
        "**Inference M :** The optimal period for launching TV shows appears to be **December**, as a significant majority of TV shows are introduced during this month.\n",
        "\n",
        "\n",
        "\n",
        "\n"
      ],
      "metadata": {
        "id": "KEhpHPYhd0pf"
      }
    },
    {
      "cell_type": "code",
      "source": [
        "df['date_added']"
      ],
      "metadata": {
        "colab": {
          "base_uri": "https://localhost:8080/"
        },
        "id": "blHav7KRc8Oi",
        "outputId": "81b30f48-9211-4286-cb73-16988a283f64"
      },
      "execution_count": null,
      "outputs": [
        {
          "output_type": "execute_result",
          "data": {
            "text/plain": [
              "0        2021-09-25\n",
              "1        2021-09-24\n",
              "2        2021-09-24\n",
              "3        2021-09-24\n",
              "4        2021-09-24\n",
              "            ...    \n",
              "201753   2019-03-02\n",
              "201754   2019-03-02\n",
              "201755   2019-03-02\n",
              "201756   2019-03-02\n",
              "201757   2019-03-02\n",
              "Name: date_added, Length: 201758, dtype: datetime64[ns]"
            ]
          },
          "metadata": {},
          "execution_count": 335
        }
      ]
    },
    {
      "cell_type": "code",
      "source": [
        "# Best Time to Launch a TV Show\n",
        "sns.countplot(data = df, x = df[\"date_added\"].dt.month)\n",
        "plt.xlabel(\"Months in which Movies were Released\")\n",
        "plt.title(\"The Best Time to Release Movies\")\n",
        "plt.show()"
      ],
      "metadata": {
        "colab": {
          "base_uri": "https://localhost:8080/",
          "height": 472
        },
        "id": "S39umiP3dKK2",
        "outputId": "506064dc-ffc5-4fd3-fbe9-6b20f3b94a55"
      },
      "execution_count": null,
      "outputs": [
        {
          "output_type": "display_data",
          "data": {
            "text/plain": [
              "<Figure size 640x480 with 1 Axes>"
            ],
            "image/png": "[encoded data removed]"
          },
          "metadata": {}
        }
      ]
    },
    {
      "cell_type": "markdown",
      "source": [
        "**Inference N :** The prime time for releasing movies seems to be in **July**, as a substantial majority of movie launches occur during this month."
      ],
      "metadata": {
        "id": "VVuYidKEedUk"
      }
    },
    {
      "cell_type": "markdown",
      "source": [
        "**Pair Plot**"
      ],
      "metadata": {
        "id": "wPlxmfw0gCVP"
      }
    },
    {
      "cell_type": "code",
      "source": [
        "# Since we have only one Numerical Category in our dataset we can do pairplot of only one category.\n",
        "sns.pairplot(df,hue=\"type\")"
      ],
      "metadata": {
        "colab": {
          "base_uri": "https://localhost:8080/",
          "height": 285
        },
        "id": "R4wNN5HZeca9",
        "outputId": "93ba4fce-0e8a-4c53-9ea9-dec26430009f"
      },
      "execution_count": null,
      "outputs": [
        {
          "output_type": "execute_result",
          "data": {
            "text/plain": [
              "<seaborn.axisgrid.PairGrid at 0x7857d2555600>"
            ]
          },
          "metadata": {},
          "execution_count": 337
        },
        {
          "output_type": "display_data",
          "data": {
            "text/plain": [
              "<Figure size 292.236x250 with 2 Axes>"
            ],
            "image/png": "[encoded data removed]"
          },
          "metadata": {}
        }
      ]
    },
    {
      "cell_type": "markdown",
      "source": [
        "**Top Rating on Movies and TV Shows**"
      ],
      "metadata": {
        "id": "AmpSPTTqhCqT"
      }
    },
    {
      "cell_type": "code",
      "source": [
        "df['rating'].unique()"
      ],
      "metadata": {
        "colab": {
          "base_uri": "https://localhost:8080/"
        },
        "id": "u-HoD3SRhNXC",
        "outputId": "f7c276dd-8a5b-4e35-9da2-336fd9cdb60e"
      },
      "execution_count": null,
      "outputs": [
        {
          "output_type": "execute_result",
          "data": {
            "text/plain": [
              "array(['PG-13', 'TV-MA', 'PG', 'TV-14', 'TV-PG', 'TV-Y', 'TV-Y7', 'R',\n",
              "       'TV-G', 'G', 'NC-17', 'NR', 'TV-Y7-FV', 'UR'], dtype=object)"
            ]
          },
          "metadata": {},
          "execution_count": 338
        }
      ]
    },
    {
      "cell_type": "code",
      "source": [
        "plt.title(\"Ratings of Movies and Tv Show\")\n",
        "sns.countplot(data = df, x= \"rating\",hue=\"type\")\n",
        "plt.xticks(rotation=90)\n",
        "plt.legend(loc =\"upper right\")\n",
        "plt.show()"
      ],
      "metadata": {
        "colab": {
          "base_uri": "https://localhost:8080/",
          "height": 518
        },
        "id": "uU-T_3enhUQ9",
        "outputId": "4b87cff6-a82c-480a-aea8-94eb35f4836e"
      },
      "execution_count": null,
      "outputs": [
        {
          "output_type": "display_data",
          "data": {
            "text/plain": [
              "<Figure size 640x480 with 1 Axes>"
            ],
            "image/png": "[encoded data removed]"
          },
          "metadata": {}
        }
      ]
    },
    {
      "cell_type": "markdown",
      "source": [
        "**Inference O :** Here, we can see the Predominant Rating for both Movies and TV shows is **TV-MA**.\n",
        "\n"
      ],
      "metadata": {
        "id": "C4OzCAKMhtKi"
      }
    },
    {
      "cell_type": "markdown",
      "source": [
        "**Analysing different types of Genres**\n"
      ],
      "metadata": {
        "id": "lPq1J-E_ir4b"
      }
    },
    {
      "cell_type": "code",
      "source": [
        "plt.figure(figsize=(18,16))\n",
        "plt.title(\"Different Types of Genres on Netflix\")\n",
        "sns.countplot(data = df, x = \"listed_in\", hue= \"listed_in\", order= df[\"listed_in\"].value_counts().index)\n",
        "plt.xticks(rotation=90)\n",
        "plt.show()"
      ],
      "metadata": {
        "colab": {
          "base_uri": "https://localhost:8080/",
          "height": 981
        },
        "id": "AzVLf7sWi3Nt",
        "outputId": "9c1ebf55-f7cd-4c15-a8b4-13cffd2fb0a6"
      },
      "execution_count": null,
      "outputs": [
        {
          "output_type": "display_data",
          "data": {
            "text/plain": [
              "<Figure size 1800x1600 with 1 Axes>"
            ],
            "image/png": "[encoded data removed]"
          },
          "metadata": {}
        }
      ]
    },
    {
      "cell_type": "markdown",
      "source": [
        "\n",
        "**Inference P :** The countplot **visualization** clearly highlights the diversity of Genre types on the platform. **Dramas** emerge as the most prevalent genre, indicating a significant audience preference for this category. Following closely are **International Movies**, suggesting a broad appeal for diverse global content on the platform."
      ],
      "metadata": {
        "id": "OxMG__JWju2S"
      }
    },
    {
      "cell_type": "markdown",
      "source": [
        "**Bivariate Analysis**"
      ],
      "metadata": {
        "id": "JWuNrAq_mFYx"
      }
    },
    {
      "cell_type": "code",
      "source": [
        "# Creating a Boxplot for Movies Duration\n",
        "Movies_df = df[df.type.str.contains(\"Movie\")].copy()\n",
        "Movies_df['duration'] = Movies_df['duration'].str.extract('(\\d+)',\n",
        "expand=False).astype(int)\n",
        "\n",
        "plt.figure(figsize=(10, 6))\n",
        "sns.boxplot(data = Movies_df, x = 'type', y = 'duration')\n",
        "plt.xlabel('Content Type')\n",
        "plt.ylabel('Duration')\n",
        "plt.title('Distribution of Duration for Movies')\n",
        "plt.show()"
      ],
      "metadata": {
        "colab": {
          "base_uri": "https://localhost:8080/",
          "height": 564
        },
        "id": "V3gFkFEFnL0l",
        "outputId": "32dc0a2f-7179-418e-d89b-996d6143669c"
      },
      "execution_count": null,
      "outputs": [
        {
          "output_type": "display_data",
          "data": {
            "text/plain": [
              "<Figure size 1000x600 with 1 Axes>"
            ],
            "image/png": "[encoded data removed]"
          },
          "metadata": {}
        }
      ]
    },
    {
      "cell_type": "markdown",
      "source": [
        "**Inference Q :** The boxplot analysis of movie durations reveals a median duration approximately in the range of **100 to 110 minutes**. The interquartile range, depicted by the box, suggests that a substantial portion of movies falls within this duration range. However, the presence of outliers on both the upper and lower sides indicates the existence of movies with significantly shorter or longer durations. This observation underscores the diversity in movie lengths available on the platform, catering to various audience preferences.\n",
        "\n",
        "\n",
        "\n",
        "\n"
      ],
      "metadata": {
        "id": "n8fUHMcaqs7p"
      }
    },
    {
      "cell_type": "code",
      "source": [
        "# Creating a Boxplot for TV Shows Duration\n",
        "TV_Show_df = df[df.type.str.contains(\"TV Show\")].copy()\n",
        "TV_Show_df['duration'] = TV_Show_df['duration'].str.extract('(\\d+)',\n",
        "expand=False).astype(int)\n",
        "\n",
        "plt.figure(figsize=(10, 6))\n",
        "sns.boxplot(data = TV_Show_df, x ='type', y ='duration')\n",
        "plt.xlabel('Content Type')\n",
        "plt.ylabel('Duration')\n",
        "plt.title('Distribution of Duration for TV Shows')\n",
        "plt.show()"
      ],
      "metadata": {
        "colab": {
          "base_uri": "https://localhost:8080/",
          "height": 564
        },
        "id": "jV3AyZJepbDh",
        "outputId": "743c9784-8eb9-477c-dfcd-559d8c0b270b"
      },
      "execution_count": null,
      "outputs": [
        {
          "output_type": "display_data",
          "data": {
            "text/plain": [
              "<Figure size 1000x600 with 1 Axes>"
            ],
            "image/png": "[encoded data removed]"
          },
          "metadata": {}
        }
      ]
    },
    {
      "cell_type": "markdown",
      "source": [
        "**Inference R :** The boxplot analysis of TV show durations reveals a median duration within the range of 1 to 2 Seasons. The absence of outliers on one side suggests a more uniform distribution, indicating that TV show episodes generally fall within a consistent duration range. This pattern aligns with the typical structure of TV shows, where episodes often have a standardized duration. The absence of outliers also implies a more predictable viewing experience for TV show enthusiasts, with less variability in episode lengths compared to movies."
      ],
      "metadata": {
        "id": "xoiEZSo1sbmX"
      }
    },
    {
      "cell_type": "markdown",
      "source": [
        "# **Business Insights**"
      ],
      "metadata": {
        "id": "WpQANxLTvE3h"
      }
    },
    {
      "cell_type": "markdown",
      "source": [
        "**Business Insights For Non-Graphical Analysis**"
      ],
      "metadata": {
        "id": "tSDLZ2aDvO8-"
      }
    },
    {
      "cell_type": "markdown",
      "source": [
        "As we Analysis the Dataset above from **Inference A** to\n",
        "**Inference I** represents the **Business Insights for Non-Graphical Analysis.**\n",
        "\n",
        "*   **Inference A :** The dataset contains nearly 2.6 times more\n",
        "movie titles than TV shows, indicating a preference for movies among the audience.\n",
        "\n",
        "*   **Inference B :** The exploding process revealed substantial variations in row expansion within the dataset. For instance, the title \"Kahlil Gibran's The Prophet\" expanded to 700 rows, emphasizing significant diversity in entries. In contrast, some rows remained unchanged, indicating\n",
        "varying impacts of the exploding operation across the dataset.\n",
        "\n",
        "*   **Inference C :** Martin Scorsese appears most frequently in our dataset, with 419 occurrences, closely followed by Youssef Chahine with 409 occurrences. These directors are associated with movies or TV shows featuring extensive cast members and diverse genres.\n",
        "\n",
        "*   **Inference D :** Liam Neeson is the most frequently occurring actor in our dataset, with 161 occurrences, closely followed by Alfred Molina with 160 occurrences. These actors have been featured in movies or TV shows directed by multiple directors, with extensive cast members and diverse genre affiliations.\n",
        "\n",
        "*   **Inference E :** The highest number of entries in our dataset, totaling 59,238, corresponds to the United States (US), followed by India at 22,814. These countries exhibit a pattern of hosting content with multiple directors, a diverse cast, and a variety of genres.\n",
        "\n",
        "*  **Inference F :** The majority of movies are added to the platform within the first week of each month.\n",
        "\n",
        "*   **Inference G :** Here, the audience has a preference for newer content.\n",
        "\n",
        "*   **Inference H :** The highest number of entries in our dataset, totaling 73,811, corresponds to the TV-MA rating, closely followed by TV-14 at 43,879. These two rating types are the most preferred among the audience.\n",
        "\n",
        "*   **Inference I :** The highest number of entries in our dataset, totaling 29,772, corresponds to the \"Dramas\" category, followed by \"International Movies\" at 28,216."
      ],
      "metadata": {
        "id": "SVeX4XnlwOiX"
      }
    },
    {
      "cell_type": "markdown",
      "source": [
        "**Business Insights For Visual Analysis**"
      ],
      "metadata": {
        "id": "Mce7nGKCyeTE"
      }
    },
    {
      "cell_type": "markdown",
      "source": [
        "As we Analysis the Dataset above from **Inference J** to\n",
        "**Inference R** represents the **Business Insights for Visual Analysis.**\n",
        "\n",
        "*   **Inference J :** Here the observation is clear and insightful. The pie chart effectively illustrates that the majority of content on Netflix is comprised of movies, accounting for 72.3%, while TV shows represent 27.7%. This considerable difference, with movies being 2.6 times more prevalent than TV shows, suggests a preference among viewers for movies over TV shows on the platform.\n",
        "\n",
        "*   **Inference K :** The historical analysis of the distribution of movies and TV shows on Netflix, as depicted in the hist plot, reveals a notable pattern. During the initial period, notably before 1980, there was a limited availability of movies and TV shows on the platform. However, a significant and consistent growth trend is observed since 1980. This surge aligns with the global increase in internet usage during that era. The rising popularity of internet access worldwide likely contributed to the expansion of content offerings on Netflix, showcasing a correlation between technological advancements and the platform's content distribution.\n",
        "\n",
        "*   **Inference L :** Upon filtering for movies and focusing on releases from 1992 onwards, a discernible trend emerges in the distribution of movies on Netflix. The data indicates a gradual increase in the number of movies available on the platform over the years, reaching a peak in 2018. However, a subsequent decline is observed, suggesting a potential decrease in the distribution of movies on Netflix in the post-2018 period.\n",
        "\n",
        "   This pattern prompts further exploration into the factors influencing the observed trend, such as changes in content acquisition strategies, shifts in viewer preferences, or alterations in the overall content landscape. Analyzing these factors could provide deeper insights into the dynamics of movie distribution on Netflix during the specified period.\n",
        "\n",
        "*   **Inference M :** The optimal period for launching TV shows appears to be December, as a significant majority of TV shows are introduced during this month.\n",
        "\n",
        "*   **Inference N :** The prime time for releasing movies seems to be in July, as a substantial majority of movie launches occur during this month.\n",
        "\n",
        "*   **Inference O :** Here, we can see the Predominant Rating for both Movies and TV shows is TV-MA.\n",
        "\n",
        "*   **Inference P :** The countplot visualization clearly highlights the diversity of Genre types on the platform. Dramas emerge as the most prevalent genre, indicating a significant audience preference for this category. Following closely are International Movies, suggesting a broad appeal for diverse global content on the platform.\n",
        "\n",
        "*   **Inference Q :** The boxplot analysis of movie durations reveals a median duration approximately in the range of 100 to 110 minutes. The interquartile range, depicted by the box, suggests that a substantial portion of movies falls within this duration range. However, the presence of outliers on both the upper and lower sides indicates the existence of movies with significantly shorter or longer durations. This observation underscores the diversity in movie lengths available on the platform, catering to various audience preferences.\n",
        "\n",
        "*   **Inference R :** The boxplot analysis of TV show durations reveals a median duration within the range of 1 to 2 Seasons. The absence of outliers on one side suggests a more uniform distribution, indicating that TV show episodes generally fall within a consistent duration range. This pattern aligns with the typical structure of TV shows, where episodes often have a standardized duration. The absence of outliers also implies a more predictable viewing experience for TV show enthusiasts, with less variability in episode lengths compared to movies.\n",
        "\n",
        "\n",
        "\n",
        "\n",
        "\n",
        "\n",
        "\n"
      ],
      "metadata": {
        "id": "PVgkrQ4sykpv"
      }
    },
    {
      "cell_type": "markdown",
      "source": [
        "# **Recommendations**"
      ],
      "metadata": {
        "id": "ZDcJ8T8c2F1W"
      }
    },
    {
      "cell_type": "markdown",
      "source": [
        "Recommendations to improve the business on Netfliex.\n",
        "\n",
        "*   Netflix can introduce regional content in most popular genres (Dramas, Comedies, and Documentaries) and ratings (TV-MA, TV-14, and R) to increase its customer base in less popular regions for example Europe and Africa.\n",
        "\n",
        "*   Netflix can produce longer movies and shows in the popular genres - Dramas, Comedies, and Documentaries - because these genres are loved by the audience and new shows will not find it hard to find people's love. This would account for recurring payments for Netflix because longer shows will span over months or years and people would have to pay to watch what they love.\n",
        "\n",
        "\n",
        "*   Since most of the movies and shows on Netflix are added in the first week of the month, the Engineering Team should maintain and scale servers accordingly for this week and also for the rest of the month.\n",
        "\n",
        "*   Since the database does not have many old movies or shows, it is worth the shot to add these contents on Netflix to see if they get any traction from the audience.\n",
        "\n",
        "*   Add new movies and shows belonging to less popular ratings and genres to give audience more options in these unppopular areas to watch from and who know they may love the new content.\n",
        "\n",
        "*   Netflix can introduce a weekly subscription plan that is valid only for the first week of a month. Since most of the new movies and shows are added in the first week, people signing up for this subscription will try to consume as much content as possible and this could form a habit and thus produce a loyal customer of Netflix.\n",
        "\n",
        "*   Netflix can bring together most popular cast members and directors under one umbrella to produce shows and movies that would be popular and accepted by a very large base of audience."
      ],
      "metadata": {
        "id": "zCxY9qtQ2M8k"
      }
    },
    {
      "cell_type": "code",
      "source": [],
      "metadata": {
        "id": "UDuatKAY7mn0"
      },
      "execution_count": null,
      "outputs": []
    }
  ]
}